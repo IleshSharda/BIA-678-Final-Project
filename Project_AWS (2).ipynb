{
 "cells": [
  {
   "cell_type": "markdown",
   "metadata": {
    "application/vnd.databricks.v1+cell": {
     "inputWidgets": {},
     "nuid": "de5cfa83-6e6f-47f5-a10a-6c7d1dadf2c6",
     "showTitle": false,
     "title": ""
    }
   },
   "source": [
    "# BIA 678 Project\n",
    "\n",
    "**Purpose:** To utilize machine learning algorithms to classify high risk loans by training on a labeled dataset containing attributes such as personal income, marriage status, job experience/profession, etc.\n",
    "\n",
    "**Problem Statement**: Measure how data scalability affects the overall performance for different classification models\n",
    "\n",
    "## Overview\n",
    "\n",
    "1. Loading the data into Spark\n",
    "2. Data Exploration and Cleaning\n",
    "3. Create Data Processing Pipeline\n",
    "4. Model Training\n",
    "5. Model Evaluation"
   ]
  },
  {
   "cell_type": "markdown",
   "metadata": {
    "application/vnd.databricks.v1+cell": {
     "inputWidgets": {},
     "nuid": "0ea8b807-ba6c-4394-a60f-92d448d5993e",
     "showTitle": false,
     "title": ""
    }
   },
   "source": [
    "### Loading in the data"
   ]
  },
  {
   "cell_type": "code",
   "execution_count": 1,
   "metadata": {
    "application/vnd.databricks.v1+cell": {
     "inputWidgets": {},
     "nuid": "ff08018e-e91d-473b-853f-62b4f7fb216e",
     "showTitle": false,
     "title": ""
    }
   },
   "outputs": [
    {
     "data": {
      "application/vnd.jupyter.widget-view+json": {
       "model_id": "aaf5801a1e28404f8aa1ef15c470eae3",
       "version_major": 2,
       "version_minor": 0
      },
      "text/plain": [
       "VBox()"
      ]
     },
     "metadata": {},
     "output_type": "display_data"
    },
    {
     "name": "stdout",
     "output_type": "stream",
     "text": [
      "Starting Spark application\n"
     ]
    },
    {
     "data": {
      "text/html": [
       "<table>\n",
       "<tr><th>ID</th><th>YARN Application ID</th><th>Kind</th><th>State</th><th>Spark UI</th><th>Driver log</th><th>Current session?</th></tr><tr><td>1</td><td>application_1638772814445_0003</td><td>pyspark</td><td>idle</td><td><a target=\"_blank\" href=\"http://ip-172-31-36-190.ec2.internal:20888/proxy/application_1638772814445_0003/\" class=\"emr-proxy-link\" emr-resource=\"j-1Z5FPAXBF1Q1Z\n",
       "\" application-id=\"application_1638772814445_0003\">Link</a></td><td><a target=\"_blank\" href=\"http://ip-172-31-39-35.ec2.internal:8042/node/containerlogs/container_1638772814445_0003_01_000001/livy\" >Link</a></td><td>✔</td></tr></table>"
      ],
      "text/plain": [
       "<IPython.core.display.HTML object>"
      ]
     },
     "metadata": {},
     "output_type": "display_data"
    },
    {
     "data": {
      "application/vnd.jupyter.widget-view+json": {
       "model_id": "",
       "version_major": 2,
       "version_minor": 0
      },
      "text/plain": [
       "FloatProgress(value=0.0, bar_style='info', description='Progress:', layout=Layout(height='25px', width='50%'),…"
      ]
     },
     "metadata": {},
     "output_type": "display_data"
    },
    {
     "name": "stdout",
     "output_type": "stream",
     "text": [
      "SparkSession available as 'spark'.\n"
     ]
    },
    {
     "data": {
      "application/vnd.jupyter.widget-view+json": {
       "model_id": "",
       "version_major": 2,
       "version_minor": 0
      },
      "text/plain": [
       "FloatProgress(value=0.0, bar_style='info', description='Progress:', layout=Layout(height='25px', width='50%'),…"
      ]
     },
     "metadata": {},
     "output_type": "display_data"
    }
   ],
   "source": [
    "from pyspark.sql.functions import isnan, when, count, col, rand, udf\n",
    "from pyspark.sql.functions import regexp_replace, explode, array, lit\n",
    "from pyspark.sql.types import DoubleType\n",
    "from pyspark.mllib.util import MLUtils\n",
    "from pyspark.ml.feature import StandardScaler, VectorAssembler, StringIndexer, OneHotEncoder\n",
    "from pyspark.ml import Pipeline\n",
    "import math as mth"
   ]
  },
  {
   "cell_type": "code",
   "execution_count": 2,
   "metadata": {
    "application/vnd.databricks.v1+cell": {
     "inputWidgets": {},
     "nuid": "7f3c223c-1c6e-4045-9894-9e3a217df29b",
     "showTitle": false,
     "title": ""
    }
   },
   "outputs": [
    {
     "data": {
      "application/vnd.jupyter.widget-view+json": {
       "model_id": "9eadfa332cb249cda493e24d90d6da71",
       "version_major": 2,
       "version_minor": 0
      },
      "text/plain": [
       "VBox()"
      ]
     },
     "metadata": {},
     "output_type": "display_data"
    },
    {
     "data": {
      "application/vnd.jupyter.widget-view+json": {
       "model_id": "",
       "version_major": 2,
       "version_minor": 0
      },
      "text/plain": [
       "FloatProgress(value=0.0, bar_style='info', description='Progress:', layout=Layout(height='25px', width='50%'),…"
      ]
     },
     "metadata": {},
     "output_type": "display_data"
    }
   ],
   "source": [
    "schema = \"\"\"\n",
    "`id` INT,\n",
    "`Income` INT,\n",
    "`Age` INT,\n",
    "`Experience` INT,\n",
    "`Married/Single` STRING,\n",
    "`House_Ownership` STRING,\n",
    "`Car_Ownership` STRING,\n",
    "`Profession` STRING,\n",
    "`CITY` STRING,\n",
    "`STATE` STRING,\n",
    "`CURRENT_JOB_YRS` INT,\n",
    "`CURRENT_HOUSE_YRS` INT,\n",
    "`Risk_Flag` INT\n",
    "\"\"\"\n",
    "\n",
    "df1 = spark.read.format(\"csv\").option(\"header\", \"true\").load(\"s3://bia678projectteam13/loan_prediction_data.csv\", schema=schema)"
   ]
  },
  {
   "cell_type": "code",
   "execution_count": 3,
   "metadata": {
    "application/vnd.databricks.v1+cell": {
     "inputWidgets": {},
     "nuid": "08be8f40-0fe0-4bb4-a732-f1853db1d8c9",
     "showTitle": false,
     "title": ""
    }
   },
   "outputs": [
    {
     "data": {
      "application/vnd.jupyter.widget-view+json": {
       "model_id": "c61d84fed9b04334890ca1e521e3a928",
       "version_major": 2,
       "version_minor": 0
      },
      "text/plain": [
       "VBox()"
      ]
     },
     "metadata": {},
     "output_type": "display_data"
    },
    {
     "data": {
      "application/vnd.jupyter.widget-view+json": {
       "model_id": "",
       "version_major": 2,
       "version_minor": 0
      },
      "text/plain": [
       "FloatProgress(value=0.0, bar_style='info', description='Progress:', layout=Layout(height='25px', width='50%'),…"
      ]
     },
     "metadata": {},
     "output_type": "display_data"
    },
    {
     "name": "stdout",
     "output_type": "stream",
     "text": [
      "+---------+------+\n",
      "|Risk_Flag| count|\n",
      "+---------+------+\n",
      "|        0|221004|\n",
      "|        1| 30996|\n",
      "+---------+------+"
     ]
    }
   ],
   "source": [
    "df1.groupBy(\"Risk_Flag\").count().sort(\"count\", ascending=False).show()"
   ]
  },
  {
   "cell_type": "markdown",
   "metadata": {
    "application/vnd.databricks.v1+cell": {
     "inputWidgets": {},
     "nuid": "8464ec5a-b3b8-46ab-a3c1-de65678bdb43",
     "showTitle": false,
     "title": ""
    }
   },
   "source": [
    "## Data Cleaning + Preprocessing"
   ]
  },
  {
   "cell_type": "code",
   "execution_count": 4,
   "metadata": {
    "application/vnd.databricks.v1+cell": {
     "inputWidgets": {},
     "nuid": "9b1772c3-77fb-43ac-b18d-c70eed4f6925",
     "showTitle": false,
     "title": ""
    }
   },
   "outputs": [
    {
     "data": {
      "application/vnd.jupyter.widget-view+json": {
       "model_id": "11bcfe10950941229501aad8b9f91fb1",
       "version_major": 2,
       "version_minor": 0
      },
      "text/plain": [
       "VBox()"
      ]
     },
     "metadata": {},
     "output_type": "display_data"
    },
    {
     "data": {
      "application/vnd.jupyter.widget-view+json": {
       "model_id": "",
       "version_major": 2,
       "version_minor": 0
      },
      "text/plain": [
       "FloatProgress(value=0.0, bar_style='info', description='Progress:', layout=Layout(height='25px', width='50%'),…"
      ]
     },
     "metadata": {},
     "output_type": "display_data"
    }
   ],
   "source": [
    "df1 = df1.withColumn('CITY', regexp_replace('CITY', '\\[\\d\\d\\]|\\[\\d\\]', ''))\n",
    "df1 = df1.withColumn('STATE', regexp_replace('STATE', '\\[\\d\\d\\]|\\[\\d\\]', ''))"
   ]
  },
  {
   "cell_type": "markdown",
   "metadata": {
    "application/vnd.databricks.v1+cell": {
     "inputWidgets": {},
     "nuid": "8cb1b7ee-0aab-4e34-8438-1bac93fc9d2d",
     "showTitle": false,
     "title": ""
    }
   },
   "source": [
    "Split the data into different scales"
   ]
  },
  {
   "cell_type": "code",
   "execution_count": 5,
   "metadata": {
    "application/vnd.databricks.v1+cell": {
     "inputWidgets": {},
     "nuid": "720575b5-e129-4dd7-b595-3da3911f0e85",
     "showTitle": false,
     "title": ""
    }
   },
   "outputs": [
    {
     "data": {
      "application/vnd.jupyter.widget-view+json": {
       "model_id": "b7b04acd6be1469e8057589572ebad84",
       "version_major": 2,
       "version_minor": 0
      },
      "text/plain": [
       "VBox()"
      ]
     },
     "metadata": {},
     "output_type": "display_data"
    },
    {
     "data": {
      "application/vnd.jupyter.widget-view+json": {
       "model_id": "",
       "version_major": 2,
       "version_minor": 0
      },
      "text/plain": [
       "FloatProgress(value=0.0, bar_style='info', description='Progress:', layout=Layout(height='25px', width='50%'),…"
      ]
     },
     "metadata": {},
     "output_type": "display_data"
    }
   ],
   "source": [
    "(training_data_full, test_data) = df1.randomSplit([0.8,0.2], seed=420)\n",
    "(training_data_08, _) = training_data_full.randomSplit([0.8, 0.2], seed=420)\n",
    "(training_data_06, _) = training_data_full.randomSplit([0.6, 0.4], seed=420)\n",
    "(training_data_04, _) = training_data_full.randomSplit([0.4, 0.6], seed=420)\n",
    "(training_data_02, _) = training_data_full.randomSplit([0.2, 0.8], seed=420)"
   ]
  },
  {
   "cell_type": "code",
   "execution_count": 6,
   "metadata": {
    "application/vnd.databricks.v1+cell": {
     "inputWidgets": {},
     "nuid": "d5d8ad78-a824-4615-aebe-ca3c6807c056",
     "showTitle": false,
     "title": ""
    }
   },
   "outputs": [
    {
     "data": {
      "application/vnd.jupyter.widget-view+json": {
       "model_id": "794379d874ee4eba8c441c5e3ac287eb",
       "version_major": 2,
       "version_minor": 0
      },
      "text/plain": [
       "VBox()"
      ]
     },
     "metadata": {},
     "output_type": "display_data"
    },
    {
     "data": {
      "application/vnd.jupyter.widget-view+json": {
       "model_id": "",
       "version_major": 2,
       "version_minor": 0
      },
      "text/plain": [
       "FloatProgress(value=0.0, bar_style='info', description='Progress:', layout=Layout(height='25px', width='50%'),…"
      ]
     },
     "metadata": {},
     "output_type": "display_data"
    }
   ],
   "source": [
    "def oversample(data):\n",
    "    major_df = data.filter(col(\"Risk_Flag\") == 0)\n",
    "    minor_df = data.filter(col(\"Risk_Flag\") == 1)\n",
    "  \n",
    "    ratio = int(major_df.count()/minor_df.count())\n",
    "    a = range(ratio)\n",
    "  \n",
    "    # duplicate the minority rows\n",
    "    oversampled_df = minor_df.withColumn(\"dummy\", explode(array([lit(x) for x in a]))).drop('dummy')\n",
    "  \n",
    "    # combine both oversampled minority rows and previous majority rows \n",
    "    combined_df = major_df.unionAll(oversampled_df)\n",
    "\n",
    "    return combined_df.orderBy(rand())\n",
    "\n",
    "def undersample(data):\n",
    "    major_df = data.filter(col(\"Risk_Flag\") == 0)\n",
    "    minor_df = data.filter(col(\"Risk_Flag\") == 1)\n",
    "  \n",
    "    ratio = int(major_df.count()/minor_df.count())\n",
    "\n",
    "    sampled_majority_df = major_df.sample(False, 1/ratio)\n",
    "    combined_df = sampled_majority_df.unionAll(minor_df)\n",
    "  \n",
    "    return combined_df"
   ]
  },
  {
   "cell_type": "code",
   "execution_count": 7,
   "metadata": {
    "application/vnd.databricks.v1+cell": {
     "inputWidgets": {},
     "nuid": "c20d9287-f82a-4740-b7ea-e59c57abcb76",
     "showTitle": false,
     "title": ""
    }
   },
   "outputs": [
    {
     "data": {
      "application/vnd.jupyter.widget-view+json": {
       "model_id": "d8ecb2ee8f2f4224a1452e1660b6c456",
       "version_major": 2,
       "version_minor": 0
      },
      "text/plain": [
       "VBox()"
      ]
     },
     "metadata": {},
     "output_type": "display_data"
    },
    {
     "data": {
      "application/vnd.jupyter.widget-view+json": {
       "model_id": "",
       "version_major": 2,
       "version_minor": 0
      },
      "text/plain": [
       "FloatProgress(value=0.0, bar_style='info', description='Progress:', layout=Layout(height='25px', width='50%'),…"
      ]
     },
     "metadata": {},
     "output_type": "display_data"
    }
   ],
   "source": [
    "train_oversample = oversample(training_data_full)\n",
    "train_undersample = undersample(training_data_full)"
   ]
  },
  {
   "cell_type": "code",
   "execution_count": 8,
   "metadata": {
    "application/vnd.databricks.v1+cell": {
     "inputWidgets": {},
     "nuid": "b84148a3-216c-4ba7-9228-3da27db27bc3",
     "showTitle": false,
     "title": ""
    }
   },
   "outputs": [
    {
     "data": {
      "application/vnd.jupyter.widget-view+json": {
       "model_id": "333fa76cfdec4651aaceb78ef8bd0b66",
       "version_major": 2,
       "version_minor": 0
      },
      "text/plain": [
       "VBox()"
      ]
     },
     "metadata": {},
     "output_type": "display_data"
    },
    {
     "data": {
      "application/vnd.jupyter.widget-view+json": {
       "model_id": "",
       "version_major": 2,
       "version_minor": 0
      },
      "text/plain": [
       "FloatProgress(value=0.0, bar_style='info', description='Progress:', layout=Layout(height='25px', width='50%'),…"
      ]
     },
     "metadata": {},
     "output_type": "display_data"
    }
   ],
   "source": [
    "def process_data(train, test):\n",
    "    # Data PreProcessing Pipeline\n",
    "  \n",
    "    # Standardize all numerical columns\n",
    "    num_assembler = VectorAssembler(inputCols=['Income','Age', 'Experience','CURRENT_JOB_YRS', 'CURRENT_HOUSE_YRS'], outputCol='num_features')\n",
    "    scaler = StandardScaler(inputCol=\"num_features\", outputCol=\"scaled_num_features\", withStd=True, withMean=False)\n",
    "    \n",
    "    # Index all categorical variables\n",
    "    cat_cols = ['Married/Single', 'House_Ownership', 'Car_Ownership', 'Profession', 'CITY', 'STATE']\n",
    "    cat_replace = ['Married/Single_idx', 'House_Ownership_idx', 'Car_Ownership_idx', 'Profession_idx', 'CITY_idx', 'STATE_idx']\n",
    "    \n",
    "\n",
    "    indexers = [StringIndexer(inputCol=cat_cols[i], outputCol=cat_replace[i]) for i in range(len(cat_cols))]\n",
    "\n",
    "    # One-hot encode categorical variables with greater than 2 categories\n",
    "    oh_cols = ['House_Ownership_idx', 'Profession_idx', 'CITY_idx', 'STATE_idx']\n",
    "    oh_cols_replace = ['House_Ownership_ohe', 'Profession_ohe', 'CITY_ohe', 'STATE_ohe']\n",
    "    encoders = [OneHotEncoder(inputCol=oh_cols[i], outputCol= oh_cols_replace[i]) for i in range(len(oh_cols))]\n",
    "\n",
    "    # Assemble the transformed columns into one final vector\n",
    "    final_cols = ['scaled_num_features', 'Married/Single_idx', 'Car_Ownership_idx', 'Profession_ohe', 'House_Ownership_ohe', 'CITY_ohe', 'STATE_ohe']\n",
    "    full_assembler = [VectorAssembler(inputCols=final_cols, outputCol='features')]\n",
    "    \n",
    "    steps = [num_assembler, scaler] + indexers + encoders + full_assembler\n",
    "    pipeline = Pipeline(stages=steps)\n",
    "  \n",
    "    pipe = pipeline.fit(train)\n",
    "  \n",
    "    train_trans = pipe.transform(train)\n",
    "    test_trans = pipe.transform(test)\n",
    "  \n",
    "    return train_trans, test_trans"
   ]
  },
  {
   "cell_type": "code",
   "execution_count": 9,
   "metadata": {
    "application/vnd.databricks.v1+cell": {
     "inputWidgets": {},
     "nuid": "c25aa570-f0c3-4c06-b0cc-2945362b5274",
     "showTitle": false,
     "title": ""
    }
   },
   "outputs": [
    {
     "data": {
      "application/vnd.jupyter.widget-view+json": {
       "model_id": "c577bbc140634b00857fb57b1b4e0678",
       "version_major": 2,
       "version_minor": 0
      },
      "text/plain": [
       "VBox()"
      ]
     },
     "metadata": {},
     "output_type": "display_data"
    },
    {
     "data": {
      "application/vnd.jupyter.widget-view+json": {
       "model_id": "",
       "version_major": 2,
       "version_minor": 0
      },
      "text/plain": [
       "FloatProgress(value=0.0, bar_style='info', description='Progress:', layout=Layout(height='25px', width='50%'),…"
      ]
     },
     "metadata": {},
     "output_type": "display_data"
    }
   ],
   "source": [
    "train_full, test_full = process_data(training_data_full, test_data)\n",
    "train_over, test_over = process_data(train_oversample, test_data)\n",
    "train_under, test_under = process_data(train_undersample, test_data)\n",
    "train_80, test_80 = process_data(training_data_08, test_data)\n",
    "train_60, test_60 = process_data(training_data_06, test_data)\n",
    "train_40, test_40 = process_data(training_data_04, test_data)\n",
    "train_20, test_20 = process_data(training_data_02, test_data)"
   ]
  },
  {
   "cell_type": "code",
   "execution_count": 11,
   "metadata": {},
   "outputs": [
    {
     "data": {
      "application/vnd.jupyter.widget-view+json": {
       "model_id": "bc0c3fbb3e9b48f78ce0e1d683a25c88",
       "version_major": 2,
       "version_minor": 0
      },
      "text/plain": [
       "VBox()"
      ]
     },
     "metadata": {},
     "output_type": "display_data"
    },
    {
     "data": {
      "application/vnd.jupyter.widget-view+json": {
       "model_id": "",
       "version_major": 2,
       "version_minor": 0
      },
      "text/plain": [
       "FloatProgress(value=0.0, bar_style='info', description='Progress:', layout=Layout(height='25px', width='50%'),…"
      ]
     },
     "metadata": {},
     "output_type": "display_data"
    },
    {
     "name": "stdout",
     "output_type": "stream",
     "text": [
      "+---+-------+---+----------+--------------+---------------+-------------+--------------------+---------------+--------------+---------------+-----------------+---------+--------------------+--------------------+------------------+-------------------+-----------------+--------------+--------+---------+-------------------+---------------+-----------------+---------------+--------------------+\n",
      "| id| Income|Age|Experience|Married/Single|House_Ownership|Car_Ownership|          Profession|           CITY|         STATE|CURRENT_JOB_YRS|CURRENT_HOUSE_YRS|Risk_Flag|        num_features| scaled_num_features|Married/Single_idx|House_Ownership_idx|Car_Ownership_idx|Profession_idx|CITY_idx|STATE_idx|House_Ownership_ohe| Profession_ohe|         CITY_ohe|      STATE_ohe|            features|\n",
      "+---+-------+---+----------+--------------+---------------+-------------+--------------------+---------------+--------------+---------------+-----------------+---------+--------------------+--------------------+------------------+-------------------+-----------------+--------------+--------+---------+-------------------+---------------+-----------------+---------------+--------------------+\n",
      "|  1|1303834| 23|         3|        single|         rented|           no| Mechanical_engineer|           Rewa|Madhya_Pradesh|              3|               13|        0|[1303834.0,23.0,3...|[0.45284380814206...|               0.0|                0.0|              0.0|          14.0|   161.0|      6.0|      (2,[0],[1.0])|(50,[14],[1.0])|(315,[161],[1.0])| (27,[6],[1.0])|(401,[0,1,2,3,4,2...|\n",
      "|  2|7574516| 40|        10|        single|         rented|           no|  Software_Developer|       Parbhani|   Maharashtra|              9|               13|        0|[7574516.0,40.0,1...|[2.63075872409599...|               0.0|                0.0|              0.0|          20.0|   116.0|      1.0|      (2,[0],[1.0])|(50,[20],[1.0])|(315,[116],[1.0])| (27,[1],[1.0])|(401,[0,1,2,3,4,2...|\n",
      "|  4|6256451| 41|         2|        single|         rented|          yes|  Software_Developer|    Bhubaneswar|        Odisha|              2|               12|        1|[6256451.0,41.0,2...|[2.17297224669260...|               0.0|                0.0|              1.0|          20.0|   280.0|     17.0|      (2,[0],[1.0])|(50,[20],[1.0])|(315,[280],[1.0])|(27,[17],[1.0])|(401,[0,1,2,3,4,6...|\n",
      "|  5|5768871| 47|        11|        single|         rented|           no|       Civil_servant|Tiruchirappalli|    Tamil_Nadu|              3|               14|        1|[5768871.0,47.0,1...|[2.00362738839476...|               0.0|                0.0|              0.0|          48.0|   141.0|      5.0|      (2,[0],[1.0])|(50,[48],[1.0])|(315,[141],[1.0])| (27,[5],[1.0])|(401,[0,1,2,3,4,5...|\n",
      "|  6|6915937| 64|         0|        single|         rented|           no|       Civil_servant|        Jalgaon|   Maharashtra|              0|               12|        0|[6915937.0,64.0,0...|[2.40202299368676...|               0.0|                0.0|              0.0|          48.0|   108.0|      1.0|      (2,[0],[1.0])|(50,[48],[1.0])|(315,[108],[1.0])| (27,[1],[1.0])|(401,[0,1,4,55,57...|\n",
      "|  8|1706172| 33|         2|        single|         rented|           no|           Economist|       Jamnagar|       Gujarat|              2|               14|        0|[1706172.0,33.0,2...|[0.59258266453042...|               0.0|                0.0|              0.0|          44.0|   113.0|      8.0|      (2,[0],[1.0])|(50,[44],[1.0])|(315,[113],[1.0])| (27,[8],[1.0])|(401,[0,1,2,3,4,5...|\n",
      "|  9|7566849| 24|        17|        single|         rented|          yes|    Flight_attendant|           Kota|     Rajasthan|             11|               11|        0|[7566849.0,24.0,1...|[2.62809584409974...|               0.0|                0.0|              1.0|          18.0|   244.0|      9.0|      (2,[0],[1.0])|(50,[18],[1.0])|(315,[244],[1.0])| (27,[9],[1.0])|(401,[0,1,2,3,4,6...|\n",
      "| 10|8964846| 23|        12|        single|         rented|           no|           Architect|     Karimnagar|     Telangana|              5|               13|        0|[8964846.0,23.0,1...|[3.11364406975667...|               0.0|                0.0|              0.0|          38.0|   203.0|     12.0|      (2,[0],[1.0])|(50,[38],[1.0])|(315,[203],[1.0])|(27,[12],[1.0])|(401,[0,1,2,3,4,4...|\n",
      "| 11|4634680| 78|         7|        single|         rented|           no|    Flight_attendant|        Hajipur|         Bihar|              7|               12|        0|[4634680.0,78.0,7...|[1.60970349041354...|               0.0|                0.0|              0.0|          18.0|     9.0|      4.0|      (2,[0],[1.0])|(50,[18],[1.0])|  (315,[9],[1.0])| (27,[4],[1.0])|(401,[0,1,2,3,4,2...|\n",
      "| 12|6623263| 22|         4|        single|         rented|           no|            Designer|          Adoni|Andhra_Pradesh|              4|               14|        0|[6623263.0,22.0,4...|[2.30037231675689...|               0.0|                0.0|              0.0|          40.0|    54.0|      2.0|      (2,[0],[1.0])|(50,[40],[1.0])| (315,[54],[1.0])| (27,[2],[1.0])|(401,[0,1,2,3,4,4...|\n",
      "| 14|8043880| 57|        12|        single|         rented|           no|   Financial_Analyst|         Kollam|        Kerala|              8|               10|        0|[8043880.0,57.0,1...|[2.79377685459787...|               0.0|                0.0|              0.0|          13.0|   204.0|     14.0|      (2,[0],[1.0])|(50,[13],[1.0])|(315,[204],[1.0])|(27,[14],[1.0])|(401,[0,1,2,3,4,2...|\n",
      "| 15|9420838| 48|         6|        single|         rented|           no|    Technical_writer|        Madurai|    Tamil_Nadu|              6|               10|        1|[9420838.0,48.0,6...|[3.27201787636266...|               0.0|                0.0|              0.0|          11.0|   198.0|      5.0|      (2,[0],[1.0])|(50,[11],[1.0])|(315,[198],[1.0])| (27,[5],[1.0])|(401,[0,1,2,3,4,1...|\n",
      "| 16|5694236| 39|         2|       married|         rented|          yes|           Economist|    Anantapuram|Andhra_Pradesh|              2|               10|        0|[5694236.0,39.0,2...|[1.97770537867521...|               1.0|                0.0|              1.0|          44.0|    36.0|      2.0|      (2,[0],[1.0])|(50,[44],[1.0])| (315,[36],[1.0])| (27,[2],[1.0])|(401,[0,1,2,3,4,5...|\n",
      "| 17|7315840| 71|         8|       married|         rented|           no|Air_traffic_contr...|      Kamarhati|   West_Bengal|              8|               14|        0|[7315840.0,71.0,8...|[2.54091613300314...|               1.0|                0.0|              0.0|           8.0|   170.0|      3.0|      (2,[0],[1.0])| (50,[8],[1.0])|(315,[170],[1.0])| (27,[3],[1.0])|(401,[0,1,2,3,4,5...|\n",
      "| 18|3666346| 56|        12|        single|         rented|           no|          Politician|       Bhusawal|   Maharashtra|             12|               11|        1|[3666346.0,56.0,1...|[1.27338456015598...|               0.0|                0.0|              0.0|          24.0|   224.0|      1.0|      (2,[0],[1.0])|(50,[24],[1.0])|(315,[224],[1.0])| (27,[1],[1.0])|(401,[0,1,2,3,4,3...|\n",
      "| 20|5431918| 40|         1|        single|         rented|           no|              Artist|      Amaravati|Andhra_Pradesh|              1|               14|        0|[5431918.0,40.0,1...|[1.88659785880365...|               0.0|                0.0|              0.0|          26.0|   120.0|      2.0|      (2,[0],[1.0])|(50,[26],[1.0])|(315,[120],[1.0])| (27,[2],[1.0])|(401,[0,1,2,3,4,3...|\n",
      "| 21|9225468| 54|        14|        single|         rented|           no|            Surveyor|   Secunderabad|     Telangana|              8|               10|        0|[9225468.0,54.0,1...|[3.20416253987296...|               0.0|                0.0|              0.0|          41.0|   284.0|     12.0|      (2,[0],[1.0])|(50,[41],[1.0])|(315,[284],[1.0])|(27,[12],[1.0])|(401,[0,1,2,3,4,4...|\n",
      "| 22|6506739| 50|         4|        single|         rented|           no|          Politician|      Ahmedabad|       Gujarat|              4|               11|        0|[6506739.0,50.0,4...|[2.25990154217980...|               0.0|                0.0|              0.0|          24.0|   278.0|      8.0|      (2,[0],[1.0])|(50,[24],[1.0])|(315,[278],[1.0])| (27,[8],[1.0])|(401,[0,1,2,3,4,3...|\n",
      "| 23|9157379| 72|        13|        single|         rented|          yes|     Design_Engineer|          Ajmer|     Rajasthan|              9|               10|        0|[9157379.0,72.0,1...|[3.18051406771118...|               0.0|                0.0|              1.0|          35.0|   154.0|      9.0|      (2,[0],[1.0])|(50,[35],[1.0])|(315,[154],[1.0])| (27,[9],[1.0])|(401,[0,1,2,3,4,6...|\n",
      "| 24|9236505| 36|        19|        single|         rented|           no|   Chemical_engineer|         Ongole|Andhra_Pradesh|              6|               14|        0|[9236505.0,36.0,1...|[3.20799587840414...|               0.0|                0.0|              0.0|          15.0|    12.0|      2.0|      (2,[0],[1.0])|(50,[15],[1.0])| (315,[12],[1.0])| (27,[2],[1.0])|(401,[0,1,2,3,4,2...|\n",
      "+---+-------+---+----------+--------------+---------------+-------------+--------------------+---------------+--------------+---------------+-----------------+---------+--------------------+--------------------+------------------+-------------------+-----------------+--------------+--------+---------+-------------------+---------------+-----------------+---------------+--------------------+\n",
      "only showing top 20 rows"
     ]
    }
   ],
   "source": [
    "train_full.show()"
   ]
  },
  {
   "cell_type": "code",
   "execution_count": 10,
   "metadata": {
    "application/vnd.databricks.v1+cell": {
     "inputWidgets": {},
     "nuid": "fe6356cb-c4ef-475d-a93d-e0a350d87ca1",
     "showTitle": false,
     "title": ""
    }
   },
   "outputs": [
    {
     "data": {
      "application/vnd.jupyter.widget-view+json": {
       "model_id": "ea03d10f26134d199e1e9045961214bd",
       "version_major": 2,
       "version_minor": 0
      },
      "text/plain": [
       "VBox()"
      ]
     },
     "metadata": {},
     "output_type": "display_data"
    },
    {
     "data": {
      "application/vnd.jupyter.widget-view+json": {
       "model_id": "",
       "version_major": 2,
       "version_minor": 0
      },
      "text/plain": [
       "FloatProgress(value=0.0, bar_style='info', description='Progress:', layout=Layout(height='25px', width='50%'),…"
      ]
     },
     "metadata": {},
     "output_type": "display_data"
    },
    {
     "name": "stdout",
     "output_type": "stream",
     "text": [
      "Full training set: 201235\n",
      "Oversampled training set: 349983\n",
      "Undersampled training set: 50077\n",
      "80% of full training set: 160988\n",
      "60% of full training set: 120741\n",
      "40% of full training set: 80494\n",
      "20% of full training set: 40247"
     ]
    }
   ],
   "source": [
    "num_samples = train_full.count()\n",
    "num_oversample = train_over.count()\n",
    "num_undersample = train_under.count()\n",
    "print(f'Full training set: {num_samples}')\n",
    "print(f'Oversampled training set: {num_oversample}')\n",
    "print(f'Undersampled training set: {num_undersample}')\n",
    "print(f'80% of full training set: {mth.floor(num_samples*0.8)}')\n",
    "print(f'60% of full training set: {mth.floor(num_samples*0.6)}')\n",
    "print(f'40% of full training set: {mth.floor(num_samples*0.4)}')\n",
    "print(f'20% of full training set: {mth.floor(num_samples*0.2)}')"
   ]
  },
  {
   "cell_type": "code",
   "execution_count": 11,
   "metadata": {
    "application/vnd.databricks.v1+cell": {
     "inputWidgets": {},
     "nuid": "b8a44662-5df2-406e-8fee-d28547152f0d",
     "showTitle": false,
     "title": ""
    }
   },
   "outputs": [
    {
     "data": {
      "application/vnd.jupyter.widget-view+json": {
       "model_id": "3fc6d3b9c22643ce9cea914944e28ca7",
       "version_major": 2,
       "version_minor": 0
      },
      "text/plain": [
       "VBox()"
      ]
     },
     "metadata": {},
     "output_type": "display_data"
    },
    {
     "data": {
      "application/vnd.jupyter.widget-view+json": {
       "model_id": "",
       "version_major": 2,
       "version_minor": 0
      },
      "text/plain": [
       "FloatProgress(value=0.0, bar_style='info', description='Progress:', layout=Layout(height='25px', width='50%'),…"
      ]
     },
     "metadata": {},
     "output_type": "display_data"
    }
   ],
   "source": [
    "def add_class_weights(df):\n",
    "    \n",
    "    balancingRatio = df.filter(col('Risk_Flag') == 1).count()/df.count()\n",
    "    calculateWeights = udf(lambda x: 1*balancingRatio if x == 0 else (1*(1.0 - balancingRatio)), DoubleType())\n",
    "    \n",
    "    df_weights = df.withColumn('weight', calculateWeights('Risk_Flag'))\n",
    "    return df_weights"
   ]
  },
  {
   "cell_type": "code",
   "execution_count": 12,
   "metadata": {
    "application/vnd.databricks.v1+cell": {
     "inputWidgets": {},
     "nuid": "c6b95f58-72ce-4cb8-90cc-550a309b08fb",
     "showTitle": false,
     "title": ""
    }
   },
   "outputs": [
    {
     "data": {
      "application/vnd.jupyter.widget-view+json": {
       "model_id": "db51011778fa471eb5f5bfbee4bc3318",
       "version_major": 2,
       "version_minor": 0
      },
      "text/plain": [
       "VBox()"
      ]
     },
     "metadata": {},
     "output_type": "display_data"
    },
    {
     "data": {
      "application/vnd.jupyter.widget-view+json": {
       "model_id": "",
       "version_major": 2,
       "version_minor": 0
      },
      "text/plain": [
       "FloatProgress(value=0.0, bar_style='info', description='Progress:', layout=Layout(height='25px', width='50%'),…"
      ]
     },
     "metadata": {},
     "output_type": "display_data"
    }
   ],
   "source": [
    "# Add class weights column for non sampled datasets\n",
    "\n",
    "train_full = add_class_weights(train_full)\n",
    "train_80 = add_class_weights(train_80)\n",
    "train_60 = add_class_weights(train_60)\n",
    "train_40 = add_class_weights(train_40)\n",
    "train_20 = add_class_weights(train_20)"
   ]
  },
  {
   "cell_type": "code",
   "execution_count": 13,
   "metadata": {},
   "outputs": [
    {
     "data": {
      "application/vnd.jupyter.widget-view+json": {
       "model_id": "bfcbe3111dee46d19c00911a173b0c28",
       "version_major": 2,
       "version_minor": 0
      },
      "text/plain": [
       "VBox()"
      ]
     },
     "metadata": {},
     "output_type": "display_data"
    },
    {
     "data": {
      "application/vnd.jupyter.widget-view+json": {
       "model_id": "",
       "version_major": 2,
       "version_minor": 0
      },
      "text/plain": [
       "FloatProgress(value=0.0, bar_style='info', description='Progress:', layout=Layout(height='25px', width='50%'),…"
      ]
     },
     "metadata": {},
     "output_type": "display_data"
    },
    {
     "name": "stdout",
     "output_type": "stream",
     "text": [
      "+-------------------+------+\n",
      "|             weight| count|\n",
      "+-------------------+------+\n",
      "| 0.8771470449407498| 24726|\n",
      "|0.12285295505925024|176539|\n",
      "+-------------------+------+"
     ]
    }
   ],
   "source": [
    "train_full.groupBy('weight').count().show()"
   ]
  },
  {
   "cell_type": "markdown",
   "metadata": {
    "application/vnd.databricks.v1+cell": {
     "inputWidgets": {},
     "nuid": "b4ca1d43-9578-48d4-9011-0eff82c9db37",
     "showTitle": false,
     "title": ""
    }
   },
   "source": [
    "### Random Forest Classifier"
   ]
  },
  {
   "cell_type": "code",
   "execution_count": 16,
   "metadata": {
    "application/vnd.databricks.v1+cell": {
     "inputWidgets": {},
     "nuid": "6ddd0aaa-e5df-441f-b862-137f1f08864b",
     "showTitle": false,
     "title": ""
    }
   },
   "outputs": [
    {
     "data": {
      "application/vnd.jupyter.widget-view+json": {
       "model_id": "80dc8a85ba6b4cc18f2f1d77bad1d9c2",
       "version_major": 2,
       "version_minor": 0
      },
      "text/plain": [
       "VBox()"
      ]
     },
     "metadata": {},
     "output_type": "display_data"
    },
    {
     "data": {
      "application/vnd.jupyter.widget-view+json": {
       "model_id": "",
       "version_major": 2,
       "version_minor": 0
      },
      "text/plain": [
       "FloatProgress(value=0.0, bar_style='info', description='Progress:', layout=Layout(height='25px', width='50%'),…"
      ]
     },
     "metadata": {},
     "output_type": "display_data"
    }
   ],
   "source": [
    "from pyspark.ml.classification import RandomForestClassifier, LogisticRegression\n",
    "#from sklearn.metrics import classification_report, confusion_matrix\n",
    "from pyspark.ml.evaluation import BinaryClassificationEvaluator\n",
    "\n",
    "def get_classification_results(clf, train, test):\n",
    "    model = clf.fit(train)\n",
    "    predictions = model.transform(test)\n",
    "    return predictions, model\n",
    "\n",
    "def get_accuracy_score(pred):\n",
    "    acc = pred.where('prediction == Risk_Flag').count()/pred.count()\n",
    "    return acc\n",
    "    \n",
    "evaluator_ROC = BinaryClassificationEvaluator(\n",
    "    labelCol='Risk_Flag', \n",
    "    rawPredictionCol='prediction', \n",
    "    metricName='areaUnderROC')\n",
    "\n",
    "evaluator_PR = BinaryClassificationEvaluator(\n",
    "    labelCol='Risk_Flag', \n",
    "    rawPredictionCol='prediction', \n",
    "    metricName='areaUnderPR')"
   ]
  },
  {
   "cell_type": "markdown",
   "metadata": {
    "application/vnd.databricks.v1+cell": {
     "inputWidgets": {},
     "nuid": "38b8953e-a045-484e-a9f0-a0fbf2e18887",
     "showTitle": false,
     "title": ""
    }
   },
   "source": [
    "**Implementation on full training set**"
   ]
  },
  {
   "cell_type": "code",
   "execution_count": 29,
   "metadata": {
    "application/vnd.databricks.v1+cell": {
     "inputWidgets": {},
     "nuid": "72206b00-0408-4ae9-ad80-38c5b3930943",
     "showTitle": false,
     "title": ""
    }
   },
   "outputs": [
    {
     "data": {
      "application/vnd.jupyter.widget-view+json": {
       "model_id": "4933fcbdfa9644999d2c44c7e8a69554",
       "version_major": 2,
       "version_minor": 0
      },
      "text/plain": [
       "VBox()"
      ]
     },
     "metadata": {},
     "output_type": "display_data"
    },
    {
     "data": {
      "application/vnd.jupyter.widget-view+json": {
       "model_id": "",
       "version_major": 2,
       "version_minor": 0
      },
      "text/plain": [
       "FloatProgress(value=0.0, bar_style='info', description='Progress:', layout=Layout(height='25px', width='50%'),…"
      ]
     },
     "metadata": {},
     "output_type": "display_data"
    },
    {
     "name": "stdout",
     "output_type": "stream",
     "text": [
      "Total execution time: 317.13725185394287 seconds"
     ]
    }
   ],
   "source": [
    "rf = RandomForestClassifier(labelCol='Risk_Flag', \n",
    "                            featuresCol='features',\n",
    "                            weightCol='weight',\n",
    "                            numTrees=300,\n",
    "                            maxDepth=15,\n",
    "                            seed=0)\n",
    "\n",
    "start_time = time.time()\n",
    "\n",
    "predictions_rf, rf_model = get_classification_results(rf, train_full, test_full)\n",
    "\n",
    "end_time = time.time()\n",
    "print(\"Total execution time: {} seconds\".format(end_time - start_time))"
   ]
  },
  {
   "cell_type": "code",
   "execution_count": 46,
   "metadata": {
    "application/vnd.databricks.v1+cell": {
     "inputWidgets": {},
     "nuid": "e8c10dbd-82c6-4682-a7bd-18c95719407d",
     "showTitle": false,
     "title": ""
    }
   },
   "outputs": [
    {
     "data": {
      "application/vnd.jupyter.widget-view+json": {
       "model_id": "cdd581a92cb74357b861d23c73828cb4",
       "version_major": 2,
       "version_minor": 0
      },
      "text/plain": [
       "VBox()"
      ]
     },
     "metadata": {},
     "output_type": "display_data"
    },
    {
     "data": {
      "application/vnd.jupyter.widget-view+json": {
       "model_id": "",
       "version_major": 2,
       "version_minor": 0
      },
      "text/plain": [
       "FloatProgress(value=0.0, bar_style='info', description='Progress:', layout=Layout(height='25px', width='50%'),…"
      ]
     },
     "metadata": {},
     "output_type": "display_data"
    },
    {
     "name": "stdout",
     "output_type": "stream",
     "text": [
      "Accuracy =  0.7597091682922504\n",
      "Area Under ROC Curve =  0.682412818076296\n",
      "Area Under PR Curve =  0.23910299566652599"
     ]
    }
   ],
   "source": [
    "acc = get_accuracy_score(predictions_rf)\n",
    "area_ROC_full = evaluator_ROC.evaluate(predictions_rf)\n",
    "area_PR_full = evaluator_PR.evaluate(predictions_rf)\n",
    "\n",
    "print('Accuracy = ', acc)\n",
    "print('Area Under ROC Curve = ', area_ROC_full)\n",
    "print('Area Under PR Curve = ', area_PR_full)"
   ]
  },
  {
   "cell_type": "markdown",
   "metadata": {
    "application/vnd.databricks.v1+cell": {
     "inputWidgets": {},
     "nuid": "adcc2bfa-d570-49a4-b07c-57207b0e7180",
     "showTitle": false,
     "title": ""
    }
   },
   "source": [
    "**Implementation of Random Forest Classifier on oversampled training set**"
   ]
  },
  {
   "cell_type": "code",
   "execution_count": 47,
   "metadata": {
    "application/vnd.databricks.v1+cell": {
     "inputWidgets": {},
     "nuid": "ed184bd7-19a9-4a4d-930a-31e287e916fc",
     "showTitle": false,
     "title": ""
    }
   },
   "outputs": [
    {
     "data": {
      "application/vnd.jupyter.widget-view+json": {
       "model_id": "673579e7bdb24519ab7395018eaad447",
       "version_major": 2,
       "version_minor": 0
      },
      "text/plain": [
       "VBox()"
      ]
     },
     "metadata": {},
     "output_type": "display_data"
    },
    {
     "data": {
      "application/vnd.jupyter.widget-view+json": {
       "model_id": "",
       "version_major": 2,
       "version_minor": 0
      },
      "text/plain": [
       "FloatProgress(value=0.0, bar_style='info', description='Progress:', layout=Layout(height='25px', width='50%'),…"
      ]
     },
     "metadata": {},
     "output_type": "display_data"
    },
    {
     "name": "stdout",
     "output_type": "stream",
     "text": [
      "Total execution time: 521.0781497955322 seconds"
     ]
    }
   ],
   "source": [
    "rf_over = RandomForestClassifier(labelCol='Risk_Flag', \n",
    "                            featuresCol='features',\n",
    "                            numTrees=300,\n",
    "                            maxDepth=15,\n",
    "                            seed=0)\n",
    "\n",
    "start_time = time.time()\n",
    "\n",
    "predictions_over_rf, model_over_rf = get_classification_results(rf_over, train_over, test_over)\n",
    "\n",
    "end_time = time.time()\n",
    "print(\"Total execution time: {} seconds\".format(end_time - start_time))"
   ]
  },
  {
   "cell_type": "code",
   "execution_count": 48,
   "metadata": {
    "application/vnd.databricks.v1+cell": {
     "inputWidgets": {},
     "nuid": "ab7a7753-39c0-4ca9-89cf-57a8b30e3177",
     "showTitle": false,
     "title": ""
    }
   },
   "outputs": [
    {
     "data": {
      "application/vnd.jupyter.widget-view+json": {
       "model_id": "4493d431ae2e495bb9d52ceca537b52e",
       "version_major": 2,
       "version_minor": 0
      },
      "text/plain": [
       "VBox()"
      ]
     },
     "metadata": {},
     "output_type": "display_data"
    },
    {
     "data": {
      "application/vnd.jupyter.widget-view+json": {
       "model_id": "",
       "version_major": 2,
       "version_minor": 0
      },
      "text/plain": [
       "FloatProgress(value=0.0, bar_style='info', description='Progress:', layout=Layout(height='25px', width='50%'),…"
      ]
     },
     "metadata": {},
     "output_type": "display_data"
    },
    {
     "name": "stdout",
     "output_type": "stream",
     "text": [
      "Accuracy =  0.7872554235384525\n",
      "Area Under ROC Curve =  0.6695216592310268\n",
      "Area Under PR Curve =  0.24624978416515025"
     ]
    }
   ],
   "source": [
    "acc = get_accuracy_score(predictions_over_rf)\n",
    "area_ROC_full = evaluator_ROC.evaluate(predictions_over_rf)\n",
    "area_PR_full = evaluator_PR.evaluate(predictions_over_rf)\n",
    "\n",
    "print('Accuracy = ', acc)\n",
    "print('Area Under ROC Curve = ', area_ROC_full)\n",
    "print('Area Under PR Curve = ', area_PR_full)"
   ]
  },
  {
   "cell_type": "markdown",
   "metadata": {
    "application/vnd.databricks.v1+cell": {
     "inputWidgets": {},
     "nuid": "b398afa6-9a12-43ad-aa3c-c518cabab529",
     "showTitle": false,
     "title": ""
    }
   },
   "source": [
    "**Implementation of Random Forest on undersampled training set**"
   ]
  },
  {
   "cell_type": "code",
   "execution_count": 50,
   "metadata": {
    "application/vnd.databricks.v1+cell": {
     "inputWidgets": {},
     "nuid": "4631796c-5576-49bc-85c2-2e4693b158f9",
     "showTitle": false,
     "title": ""
    }
   },
   "outputs": [
    {
     "data": {
      "application/vnd.jupyter.widget-view+json": {
       "model_id": "fc217b6811904856a28416a556d88517",
       "version_major": 2,
       "version_minor": 0
      },
      "text/plain": [
       "VBox()"
      ]
     },
     "metadata": {},
     "output_type": "display_data"
    },
    {
     "data": {
      "application/vnd.jupyter.widget-view+json": {
       "model_id": "",
       "version_major": 2,
       "version_minor": 0
      },
      "text/plain": [
       "FloatProgress(value=0.0, bar_style='info', description='Progress:', layout=Layout(height='25px', width='50%'),…"
      ]
     },
     "metadata": {},
     "output_type": "display_data"
    },
    {
     "name": "stdout",
     "output_type": "stream",
     "text": [
      "Total execution time: 90.91341757774353 seconds"
     ]
    }
   ],
   "source": [
    "rf_under = RandomForestClassifier(labelCol='Risk_Flag', \n",
    "                                  featuresCol='features',\n",
    "                                  numTrees=300,\n",
    "                                  maxDepth=15,\n",
    "                                  seed=0)\n",
    "\n",
    "start_time = time.time()\n",
    "\n",
    "predictions_under_rf, model_under_rf = get_classification_results(rf_under, train_under, test_under)\n",
    "\n",
    "end_time = time.time()\n",
    "print(\"Total execution time: {} seconds\".format(end_time - start_time))"
   ]
  },
  {
   "cell_type": "code",
   "execution_count": 51,
   "metadata": {
    "application/vnd.databricks.v1+cell": {
     "inputWidgets": {},
     "nuid": "db3de036-b4ac-4ea0-a8a1-ded8cf509c80",
     "showTitle": false,
     "title": ""
    }
   },
   "outputs": [
    {
     "data": {
      "application/vnd.jupyter.widget-view+json": {
       "model_id": "5cfa20ee8f26465b880a20ca63b49dde",
       "version_major": 2,
       "version_minor": 0
      },
      "text/plain": [
       "VBox()"
      ]
     },
     "metadata": {},
     "output_type": "display_data"
    },
    {
     "data": {
      "application/vnd.jupyter.widget-view+json": {
       "model_id": "",
       "version_major": 2,
       "version_minor": 0
      },
      "text/plain": [
       "FloatProgress(value=0.0, bar_style='info', description='Progress:', layout=Layout(height='25px', width='50%'),…"
      ]
     },
     "metadata": {},
     "output_type": "display_data"
    },
    {
     "name": "stdout",
     "output_type": "stream",
     "text": [
      "Accuracy =  0.7661969054893072\n",
      "Area Under ROC Curve =  0.6791981435858642\n",
      "Area Under PR Curve =  0.24520577158170415"
     ]
    }
   ],
   "source": [
    "acc = get_accuracy_score(predictions_under_rf)\n",
    "area_ROC_full = evaluator_ROC.evaluate(predictions_under_rf)\n",
    "area_PR_full = evaluator_PR.evaluate(predictions_under_rf)\n",
    "\n",
    "print('Accuracy = ', acc)\n",
    "print('Area Under ROC Curve = ', area_ROC_full)\n",
    "print('Area Under PR Curve = ', area_PR_full)"
   ]
  },
  {
   "cell_type": "markdown",
   "metadata": {
    "application/vnd.databricks.v1+cell": {
     "inputWidgets": {},
     "nuid": "fa5979e2-1b16-48d0-a9da-b1b38cad08fa",
     "showTitle": false,
     "title": ""
    }
   },
   "source": [
    "**Implementation on 80% of the training set**"
   ]
  },
  {
   "cell_type": "code",
   "execution_count": 52,
   "metadata": {
    "application/vnd.databricks.v1+cell": {
     "inputWidgets": {},
     "nuid": "bdd5a305-235b-443e-aa73-6de1f83be6a9",
     "showTitle": false,
     "title": ""
    }
   },
   "outputs": [
    {
     "data": {
      "application/vnd.jupyter.widget-view+json": {
       "model_id": "ab21917e451e402b8b1b4420ef139eb2",
       "version_major": 2,
       "version_minor": 0
      },
      "text/plain": [
       "VBox()"
      ]
     },
     "metadata": {},
     "output_type": "display_data"
    },
    {
     "data": {
      "application/vnd.jupyter.widget-view+json": {
       "model_id": "",
       "version_major": 2,
       "version_minor": 0
      },
      "text/plain": [
       "FloatProgress(value=0.0, bar_style='info', description='Progress:', layout=Layout(height='25px', width='50%'),…"
      ]
     },
     "metadata": {},
     "output_type": "display_data"
    },
    {
     "name": "stdout",
     "output_type": "stream",
     "text": [
      "Total execution time: 278.2161240577698 seconds"
     ]
    }
   ],
   "source": [
    "rf = RandomForestClassifier(labelCol='Risk_Flag', \n",
    "                            featuresCol='features',\n",
    "                            weightCol='weight',\n",
    "                            numTrees=300,\n",
    "                            maxDepth=15,\n",
    "                            seed=0)\n",
    "\n",
    "start_time = time.time()\n",
    "\n",
    "predictions_80, model_80_rf = get_classification_results(rf, train_80, test_80)\n",
    "\n",
    "end_time = time.time()\n",
    "print(\"Total execution time: {} seconds\".format(end_time - start_time))"
   ]
  },
  {
   "cell_type": "code",
   "execution_count": 53,
   "metadata": {
    "application/vnd.databricks.v1+cell": {
     "inputWidgets": {},
     "nuid": "79b6a95d-1f9c-4a24-a00a-e1bcc54e4f6b",
     "showTitle": false,
     "title": ""
    }
   },
   "outputs": [
    {
     "data": {
      "application/vnd.jupyter.widget-view+json": {
       "model_id": "3ce7338b16104b358573fe4d68431aaf",
       "version_major": 2,
       "version_minor": 0
      },
      "text/plain": [
       "VBox()"
      ]
     },
     "metadata": {},
     "output_type": "display_data"
    },
    {
     "data": {
      "application/vnd.jupyter.widget-view+json": {
       "model_id": "",
       "version_major": 2,
       "version_minor": 0
      },
      "text/plain": [
       "FloatProgress(value=0.0, bar_style='info', description='Progress:', layout=Layout(height='25px', width='50%'),…"
      ]
     },
     "metadata": {},
     "output_type": "display_data"
    },
    {
     "name": "stdout",
     "output_type": "stream",
     "text": [
      "Accuracy =  0.7227443794210952\n",
      "Area Under ROC Curve =  0.6896723921788804\n",
      "Area Under PR Curve =  0.22734000467648036"
     ]
    }
   ],
   "source": [
    "acc = get_accuracy_score(predictions_80)\n",
    "area_ROC_80 = evaluator_ROC.evaluate(predictions_80)\n",
    "area_PR_80 = evaluator_PR.evaluate(predictions_80)\n",
    "\n",
    "print('Accuracy = ', acc)\n",
    "print('Area Under ROC Curve = ', area_ROC_80)\n",
    "print('Area Under PR Curve = ', area_PR_80)"
   ]
  },
  {
   "cell_type": "markdown",
   "metadata": {
    "application/vnd.databricks.v1+cell": {
     "inputWidgets": {},
     "nuid": "7e7bf679-5df2-4d5c-815d-55729638c17f",
     "showTitle": false,
     "title": ""
    }
   },
   "source": [
    "**Implementation on 60% of training set**"
   ]
  },
  {
   "cell_type": "code",
   "execution_count": 54,
   "metadata": {
    "application/vnd.databricks.v1+cell": {
     "inputWidgets": {},
     "nuid": "bf21ab45-7687-4159-802a-a15c32c7a9eb",
     "showTitle": false,
     "title": ""
    }
   },
   "outputs": [
    {
     "data": {
      "application/vnd.jupyter.widget-view+json": {
       "model_id": "a3fa54f27796496a9ebef18bdd5969a3",
       "version_major": 2,
       "version_minor": 0
      },
      "text/plain": [
       "VBox()"
      ]
     },
     "metadata": {},
     "output_type": "display_data"
    },
    {
     "data": {
      "application/vnd.jupyter.widget-view+json": {
       "model_id": "",
       "version_major": 2,
       "version_minor": 0
      },
      "text/plain": [
       "FloatProgress(value=0.0, bar_style='info', description='Progress:', layout=Layout(height='25px', width='50%'),…"
      ]
     },
     "metadata": {},
     "output_type": "display_data"
    },
    {
     "name": "stdout",
     "output_type": "stream",
     "text": [
      "Total execution time: 225.52445244789124 seconds"
     ]
    }
   ],
   "source": [
    "rf = RandomForestClassifier(labelCol='Risk_Flag', \n",
    "                            featuresCol='features',\n",
    "                            weightCol='weight',\n",
    "                            numTrees=300,\n",
    "                            maxDepth=15,\n",
    "                            seed=0)\n",
    "\n",
    "start_time = time.time()\n",
    "\n",
    "predictions_60_rf, model_60_rf = get_classification_results(rf, train_60, test_60)\n",
    "\n",
    "end_time = time.time()\n",
    "print(\"Total execution time: {} seconds\".format(end_time - start_time))"
   ]
  },
  {
   "cell_type": "code",
   "execution_count": 55,
   "metadata": {
    "application/vnd.databricks.v1+cell": {
     "inputWidgets": {},
     "nuid": "9cae0495-be9e-49e2-a3d6-039554a0ca90",
     "showTitle": false,
     "title": ""
    }
   },
   "outputs": [
    {
     "data": {
      "application/vnd.jupyter.widget-view+json": {
       "model_id": "94a97fb695514a5b8efdb26a2beb9ace",
       "version_major": 2,
       "version_minor": 0
      },
      "text/plain": [
       "VBox()"
      ]
     },
     "metadata": {},
     "output_type": "display_data"
    },
    {
     "data": {
      "application/vnd.jupyter.widget-view+json": {
       "model_id": "",
       "version_major": 2,
       "version_minor": 0
      },
      "text/plain": [
       "FloatProgress(value=0.0, bar_style='info', description='Progress:', layout=Layout(height='25px', width='50%'),…"
      ]
     },
     "metadata": {},
     "output_type": "display_data"
    },
    {
     "name": "stdout",
     "output_type": "stream",
     "text": [
      "Accuracy =  0.7240842544974483\n",
      "Area Under ROC Curve =  0.6827368523892658\n",
      "Area Under PR Curve =  0.22624840078435624"
     ]
    }
   ],
   "source": [
    "acc = get_accuracy_score(predictions_60_rf)\n",
    "area_ROC_60 = evaluator_ROC.evaluate(predictions_60_rf)\n",
    "area_PR_60 = evaluator_PR.evaluate(predictions_60_rf)\n",
    "\n",
    "print('Accuracy = ', acc)\n",
    "print('Area Under ROC Curve = ', area_ROC_60)\n",
    "print('Area Under PR Curve = ', area_PR_60)"
   ]
  },
  {
   "cell_type": "markdown",
   "metadata": {},
   "source": [
    "**Implementation of Random Forest on 40% of training set**"
   ]
  },
  {
   "cell_type": "code",
   "execution_count": 56,
   "metadata": {},
   "outputs": [
    {
     "data": {
      "application/vnd.jupyter.widget-view+json": {
       "model_id": "99964f5711e143c28656bf4a12207e7e",
       "version_major": 2,
       "version_minor": 0
      },
      "text/plain": [
       "VBox()"
      ]
     },
     "metadata": {},
     "output_type": "display_data"
    },
    {
     "data": {
      "application/vnd.jupyter.widget-view+json": {
       "model_id": "",
       "version_major": 2,
       "version_minor": 0
      },
      "text/plain": [
       "FloatProgress(value=0.0, bar_style='info', description='Progress:', layout=Layout(height='25px', width='50%'),…"
      ]
     },
     "metadata": {},
     "output_type": "display_data"
    },
    {
     "name": "stdout",
     "output_type": "stream",
     "text": [
      "Total execution time: 154.05084204673767 seconds"
     ]
    }
   ],
   "source": [
    "rf = RandomForestClassifier(labelCol='Risk_Flag', \n",
    "                            featuresCol='features',\n",
    "                            weightCol='weight',\n",
    "                            numTrees=300,\n",
    "                            maxDepth=15,\n",
    "                            seed=0)\n",
    "\n",
    "start_time = time.time()\n",
    "\n",
    "predictions_40_rf, model_40_rf = get_classification_results(rf, train_40, test_40)\n",
    "\n",
    "end_time = time.time()\n",
    "print(\"Total execution time: {} seconds\".format(end_time - start_time))"
   ]
  },
  {
   "cell_type": "code",
   "execution_count": 57,
   "metadata": {},
   "outputs": [
    {
     "data": {
      "application/vnd.jupyter.widget-view+json": {
       "model_id": "8c15734a0305471cad8bd1a72dae03da",
       "version_major": 2,
       "version_minor": 0
      },
      "text/plain": [
       "VBox()"
      ]
     },
     "metadata": {},
     "output_type": "display_data"
    },
    {
     "data": {
      "application/vnd.jupyter.widget-view+json": {
       "model_id": "",
       "version_major": 2,
       "version_minor": 0
      },
      "text/plain": [
       "FloatProgress(value=0.0, bar_style='info', description='Progress:', layout=Layout(height='25px', width='50%'),…"
      ]
     },
     "metadata": {},
     "output_type": "display_data"
    },
    {
     "name": "stdout",
     "output_type": "stream",
     "text": [
      "Accuracy =  0.717365175070442\n",
      "Area Under ROC Curve =  0.6866324471849079\n",
      "Area Under PR Curve =  0.22461482385444012"
     ]
    }
   ],
   "source": [
    "acc = get_accuracy_score(predictions_40_rf)\n",
    "area_ROC_40 = evaluator_ROC.evaluate(predictions_40_rf)\n",
    "area_PR_40 = evaluator_PR.evaluate(predictions_40_rf)\n",
    "\n",
    "print('Accuracy = ', acc)\n",
    "print('Area Under ROC Curve = ', area_ROC_40)\n",
    "print('Area Under PR Curve = ', area_PR_40)"
   ]
  },
  {
   "cell_type": "markdown",
   "metadata": {},
   "source": [
    "**Implementation of Random Forest on 20% of training set**"
   ]
  },
  {
   "cell_type": "code",
   "execution_count": 58,
   "metadata": {},
   "outputs": [
    {
     "data": {
      "application/vnd.jupyter.widget-view+json": {
       "model_id": "a8ba2778924d4ebd808f7d353c779dd1",
       "version_major": 2,
       "version_minor": 0
      },
      "text/plain": [
       "VBox()"
      ]
     },
     "metadata": {},
     "output_type": "display_data"
    },
    {
     "data": {
      "application/vnd.jupyter.widget-view+json": {
       "model_id": "",
       "version_major": 2,
       "version_minor": 0
      },
      "text/plain": [
       "FloatProgress(value=0.0, bar_style='info', description='Progress:', layout=Layout(height='25px', width='50%'),…"
      ]
     },
     "metadata": {},
     "output_type": "display_data"
    },
    {
     "name": "stdout",
     "output_type": "stream",
     "text": [
      "Total execution time: 89.08292961120605 seconds"
     ]
    }
   ],
   "source": [
    "rf = RandomForestClassifier(labelCol='Risk_Flag', \n",
    "                            featuresCol='features',\n",
    "                            weightCol='weight',\n",
    "                            numTrees=300,\n",
    "                            maxDepth=15,\n",
    "                            seed=0)\n",
    "\n",
    "start_time = time.time()\n",
    "\n",
    "predictions_20_rf, model_20_rf = get_classification_results(rf, train_20, test_20)\n",
    "\n",
    "end_time = time.time()\n",
    "print(\"Total execution time: {} seconds\".format(end_time - start_time))"
   ]
  },
  {
   "cell_type": "code",
   "execution_count": 59,
   "metadata": {},
   "outputs": [
    {
     "data": {
      "application/vnd.jupyter.widget-view+json": {
       "model_id": "e63b185d3e36456d87ea6cf94f2cb41a",
       "version_major": 2,
       "version_minor": 0
      },
      "text/plain": [
       "VBox()"
      ]
     },
     "metadata": {},
     "output_type": "display_data"
    },
    {
     "data": {
      "application/vnd.jupyter.widget-view+json": {
       "model_id": "",
       "version_major": 2,
       "version_minor": 0
      },
      "text/plain": [
       "FloatProgress(value=0.0, bar_style='info', description='Progress:', layout=Layout(height='25px', width='50%'),…"
      ]
     },
     "metadata": {},
     "output_type": "display_data"
    },
    {
     "name": "stdout",
     "output_type": "stream",
     "text": [
      "Accuracy =  0.7852653149691632\n",
      "Area Under ROC Curve =  0.6592259161132037\n",
      "Area Under PR Curve =  0.23956612643918812"
     ]
    }
   ],
   "source": [
    "acc = get_accuracy_score(predictions_20_rf)\n",
    "area_ROC_20 = evaluator_ROC.evaluate(predictions_20_rf)\n",
    "area_PR_20 = evaluator_PR.evaluate(predictions_20_rf)\n",
    "\n",
    "print('Accuracy = ', acc)\n",
    "print('Area Under ROC Curve = ', area_ROC_20)\n",
    "print('Area Under PR Curve = ', area_PR_20)"
   ]
  },
  {
   "cell_type": "markdown",
   "metadata": {
    "application/vnd.databricks.v1+cell": {
     "inputWidgets": {},
     "nuid": "418f5443-0978-4d8d-8cd7-8ea13dc0c3b6",
     "showTitle": false,
     "title": ""
    }
   },
   "source": [
    "## Support Vector Machine"
   ]
  },
  {
   "cell_type": "markdown",
   "metadata": {
    "application/vnd.databricks.v1+cell": {
     "inputWidgets": {},
     "nuid": "0846a03f-a662-4ec3-b686-b0dcdce74cdf",
     "showTitle": false,
     "title": ""
    }
   },
   "source": [
    "**Implementation on full training set**"
   ]
  },
  {
   "cell_type": "code",
   "execution_count": 60,
   "metadata": {
    "application/vnd.databricks.v1+cell": {
     "inputWidgets": {},
     "nuid": "dab09f40-6bbf-43a1-a335-ca10d8dcc72a",
     "showTitle": false,
     "title": ""
    }
   },
   "outputs": [
    {
     "data": {
      "application/vnd.jupyter.widget-view+json": {
       "model_id": "4c185bb8ae044eeaac3bc4e782375302",
       "version_major": 2,
       "version_minor": 0
      },
      "text/plain": [
       "VBox()"
      ]
     },
     "metadata": {},
     "output_type": "display_data"
    },
    {
     "data": {
      "application/vnd.jupyter.widget-view+json": {
       "model_id": "",
       "version_major": 2,
       "version_minor": 0
      },
      "text/plain": [
       "FloatProgress(value=0.0, bar_style='info', description='Progress:', layout=Layout(height='25px', width='50%'),…"
      ]
     },
     "metadata": {},
     "output_type": "display_data"
    },
    {
     "name": "stdout",
     "output_type": "stream",
     "text": [
      "Total execution time: 34.03608989715576 seconds"
     ]
    }
   ],
   "source": [
    "from pyspark.ml.classification import LinearSVC\n",
    "import time\n",
    "\n",
    "lsvc = LinearSVC(labelCol='Risk_Flag', \n",
    "                 featuresCol='features',\n",
    "                 weightCol='weight',\n",
    "                 regParam=0.9)\n",
    "\n",
    "start_time = time.time()\n",
    "\n",
    "predictions_svc, model_svc = get_classification_results(lsvc, train_full, test_full)\n",
    "\n",
    "end_time = time.time()\n",
    "print(\"Total execution time: {} seconds\".format(end_time - start_time))"
   ]
  },
  {
   "cell_type": "code",
   "execution_count": 61,
   "metadata": {
    "application/vnd.databricks.v1+cell": {
     "inputWidgets": {},
     "nuid": "6c2a1870-34e7-43c9-96d5-32ce9ef3af08",
     "showTitle": false,
     "title": ""
    }
   },
   "outputs": [
    {
     "data": {
      "application/vnd.jupyter.widget-view+json": {
       "model_id": "2512ed454f2c4319a237c07e1e5e2f4d",
       "version_major": 2,
       "version_minor": 0
      },
      "text/plain": [
       "VBox()"
      ]
     },
     "metadata": {},
     "output_type": "display_data"
    },
    {
     "data": {
      "application/vnd.jupyter.widget-view+json": {
       "model_id": "",
       "version_major": 2,
       "version_minor": 0
      },
      "text/plain": [
       "FloatProgress(value=0.0, bar_style='info', description='Progress:', layout=Layout(height='25px', width='50%'),…"
      ]
     },
     "metadata": {},
     "output_type": "display_data"
    },
    {
     "name": "stdout",
     "output_type": "stream",
     "text": [
      "Accuracy =  0.4355579200409844\n",
      "Area Under ROC Curve =  0.5859225154407148\n",
      "Area Under PR Curve =  0.14833434558943642"
     ]
    }
   ],
   "source": [
    "acc = get_accuracy_score(predictions_svc)\n",
    "area_ROC = evaluator_ROC.evaluate(predictions_svc)\n",
    "area_PR = evaluator_PR.evaluate(predictions_svc)\n",
    "\n",
    "print('Accuracy = ', acc)\n",
    "print('Area Under ROC Curve = ', area_ROC)\n",
    "print('Area Under PR Curve = ', area_PR)"
   ]
  },
  {
   "cell_type": "markdown",
   "metadata": {
    "application/vnd.databricks.v1+cell": {
     "inputWidgets": {},
     "nuid": "31871c7d-7756-4a5a-a11e-92dd90e213ff",
     "showTitle": false,
     "title": ""
    }
   },
   "source": [
    "**Implementation of Support Vector Classifier on oversampled training set**"
   ]
  },
  {
   "cell_type": "code",
   "execution_count": 62,
   "metadata": {
    "application/vnd.databricks.v1+cell": {
     "inputWidgets": {},
     "nuid": "b5734fca-8fde-4c8b-9dc0-9c065e88c03e",
     "showTitle": false,
     "title": ""
    }
   },
   "outputs": [
    {
     "data": {
      "application/vnd.jupyter.widget-view+json": {
       "model_id": "40ae35a3803945a089f2e5cb9fd1a7f8",
       "version_major": 2,
       "version_minor": 0
      },
      "text/plain": [
       "VBox()"
      ]
     },
     "metadata": {},
     "output_type": "display_data"
    },
    {
     "data": {
      "application/vnd.jupyter.widget-view+json": {
       "model_id": "",
       "version_major": 2,
       "version_minor": 0
      },
      "text/plain": [
       "FloatProgress(value=0.0, bar_style='info', description='Progress:', layout=Layout(height='25px', width='50%'),…"
      ]
     },
     "metadata": {},
     "output_type": "display_data"
    },
    {
     "name": "stderr",
     "output_type": "stream",
     "text": [
      "Exception in thread cell_monitor-62:\n",
      "Traceback (most recent call last):\n",
      "  File \"/mnt/notebook-env/lib/python3.7/threading.py\", line 926, in _bootstrap_inner\n",
      "    self.run()\n",
      "  File \"/mnt/notebook-env/lib/python3.7/threading.py\", line 870, in run\n",
      "    self._target(*self._args, **self._kwargs)\n",
      "  File \"/mnt/notebook-env/lib/python3.7/site-packages/awseditorssparkmonitoringwidget-1.0-py3.7.egg/awseditorssparkmonitoringwidget/cellmonitor.py\", line 178, in cell_monitor\n",
      "    job_binned_stages[job_id][stage_id] = all_stages[stage_id]\n",
      "KeyError: 1496\n",
      "\n"
     ]
    },
    {
     "name": "stdout",
     "output_type": "stream",
     "text": [
      "Total execution time: 101.10137629508972 seconds"
     ]
    }
   ],
   "source": [
    "lsvc_over = LinearSVC(labelCol='Risk_Flag', featuresCol='features', regParam=0.9)\n",
    "\n",
    "start_time = time.time()\n",
    "\n",
    "predictions_over_svc, model_over_svc = get_classification_results(lsvc_over, train_over, test_over)\n",
    "\n",
    "end_time = time.time()\n",
    "print(\"Total execution time: {} seconds\".format(end_time - start_time))"
   ]
  },
  {
   "cell_type": "code",
   "execution_count": 63,
   "metadata": {
    "application/vnd.databricks.v1+cell": {
     "inputWidgets": {},
     "nuid": "1fd92b08-87fd-4e9c-be00-5444b0523fb6",
     "showTitle": false,
     "title": ""
    }
   },
   "outputs": [
    {
     "data": {
      "application/vnd.jupyter.widget-view+json": {
       "model_id": "c68ca361f8c74a5faca15b2344f06213",
       "version_major": 2,
       "version_minor": 0
      },
      "text/plain": [
       "VBox()"
      ]
     },
     "metadata": {},
     "output_type": "display_data"
    },
    {
     "data": {
      "application/vnd.jupyter.widget-view+json": {
       "model_id": "",
       "version_major": 2,
       "version_minor": 0
      },
      "text/plain": [
       "FloatProgress(value=0.0, bar_style='info', description='Progress:', layout=Layout(height='25px', width='50%'),…"
      ]
     },
     "metadata": {},
     "output_type": "display_data"
    },
    {
     "name": "stdout",
     "output_type": "stream",
     "text": [
      "Accuracy =  0.8297822016359515\n",
      "Area Under ROC Curve =  0.5452513230573443\n",
      "Area Under PR Curve =  0.1886066952167489"
     ]
    }
   ],
   "source": [
    "acc = get_accuracy_score(predictions_over_svc)\n",
    "area_ROC = evaluator_ROC.evaluate(predictions_over_svc)\n",
    "area_PR = evaluator_PR.evaluate(predictions_over_svc)\n",
    "\n",
    "print('Accuracy = ', acc)\n",
    "print('Area Under ROC Curve = ', area_ROC)\n",
    "print('Area Under PR Curve = ', area_PR)"
   ]
  },
  {
   "cell_type": "markdown",
   "metadata": {
    "application/vnd.databricks.v1+cell": {
     "inputWidgets": {},
     "nuid": "37f4a3c3-45f7-4c2a-9f05-457958b2eb9d",
     "showTitle": false,
     "title": ""
    }
   },
   "source": [
    "**Implementation of Support Vector Classifier on undersampled training set**"
   ]
  },
  {
   "cell_type": "code",
   "execution_count": 64,
   "metadata": {
    "application/vnd.databricks.v1+cell": {
     "inputWidgets": {},
     "nuid": "29fd3f6a-590a-4357-8b56-3f97390397d9",
     "showTitle": false,
     "title": ""
    }
   },
   "outputs": [
    {
     "data": {
      "application/vnd.jupyter.widget-view+json": {
       "model_id": "b8dad76954b94442bfa0fc759e1e152a",
       "version_major": 2,
       "version_minor": 0
      },
      "text/plain": [
       "VBox()"
      ]
     },
     "metadata": {},
     "output_type": "display_data"
    },
    {
     "data": {
      "application/vnd.jupyter.widget-view+json": {
       "model_id": "",
       "version_major": 2,
       "version_minor": 0
      },
      "text/plain": [
       "FloatProgress(value=0.0, bar_style='info', description='Progress:', layout=Layout(height='25px', width='50%'),…"
      ]
     },
     "metadata": {},
     "output_type": "display_data"
    },
    {
     "name": "stdout",
     "output_type": "stream",
     "text": [
      "Total execution time: 12.701873064041138 seconds"
     ]
    }
   ],
   "source": [
    "lsvc_under = LinearSVC(labelCol='Risk_Flag', featuresCol='features', regParam=0.9)\n",
    "\n",
    "start_time = time.time()\n",
    "\n",
    "predictions_under_svc, model_under_svc = get_classification_results(lsvc_under, train_under, test_under)\n",
    "\n",
    "end_time = time.time()\n",
    "print(\"Total execution time: {} seconds\".format(end_time - start_time))"
   ]
  },
  {
   "cell_type": "code",
   "execution_count": 65,
   "metadata": {
    "application/vnd.databricks.v1+cell": {
     "inputWidgets": {},
     "nuid": "bb83f16f-7583-4485-9865-250770a0bb2a",
     "showTitle": false,
     "title": ""
    }
   },
   "outputs": [
    {
     "data": {
      "application/vnd.jupyter.widget-view+json": {
       "model_id": "0e99c1b05d7b479ea1eeb7e2f116facd",
       "version_major": 2,
       "version_minor": 0
      },
      "text/plain": [
       "VBox()"
      ]
     },
     "metadata": {},
     "output_type": "display_data"
    },
    {
     "data": {
      "application/vnd.jupyter.widget-view+json": {
       "model_id": "",
       "version_major": 2,
       "version_minor": 0
      },
      "text/plain": [
       "FloatProgress(value=0.0, bar_style='info', description='Progress:', layout=Layout(height='25px', width='50%'),…"
      ]
     },
     "metadata": {},
     "output_type": "display_data"
    },
    {
     "name": "stdout",
     "output_type": "stream",
     "text": [
      "Accuracy =  0.8231758980118619\n",
      "Area Under ROC Curve =  0.5465646047826286\n",
      "Area Under PR Curve =  0.18120309805354212"
     ]
    }
   ],
   "source": [
    "acc = get_accuracy_score(predictions_under_svc)\n",
    "area_ROC = evaluator_ROC.evaluate(predictions_under_svc)\n",
    "area_PR = evaluator_PR.evaluate(predictions_under_svc)\n",
    "\n",
    "print('Accuracy = ', acc)\n",
    "print('Area Under ROC Curve = ', area_ROC)\n",
    "print('Area Under PR Curve = ', area_PR)"
   ]
  },
  {
   "cell_type": "markdown",
   "metadata": {
    "application/vnd.databricks.v1+cell": {
     "inputWidgets": {},
     "nuid": "0f2436de-dfdd-471f-9f7d-411813e376eb",
     "showTitle": false,
     "title": ""
    }
   },
   "source": [
    "**Implementation on 80% of training set**"
   ]
  },
  {
   "cell_type": "code",
   "execution_count": 66,
   "metadata": {
    "application/vnd.databricks.v1+cell": {
     "inputWidgets": {},
     "nuid": "90fae4cc-1519-4975-89e8-0c643879cf10",
     "showTitle": false,
     "title": ""
    }
   },
   "outputs": [
    {
     "data": {
      "application/vnd.jupyter.widget-view+json": {
       "model_id": "06e29caf3dc14f84b2bac99538e9b363",
       "version_major": 2,
       "version_minor": 0
      },
      "text/plain": [
       "VBox()"
      ]
     },
     "metadata": {},
     "output_type": "display_data"
    },
    {
     "data": {
      "application/vnd.jupyter.widget-view+json": {
       "model_id": "",
       "version_major": 2,
       "version_minor": 0
      },
      "text/plain": [
       "FloatProgress(value=0.0, bar_style='info', description='Progress:', layout=Layout(height='25px', width='50%'),…"
      ]
     },
     "metadata": {},
     "output_type": "display_data"
    },
    {
     "name": "stdout",
     "output_type": "stream",
     "text": [
      "Total execution time: 22.056426286697388 seconds"
     ]
    }
   ],
   "source": [
    "start_time = time.time()\n",
    "\n",
    "predictions_80_svc, model_80_svc = get_classification_results(lsvc, train_80, test_80)\n",
    "\n",
    "end_time = time.time()\n",
    "print(\"Total execution time: {} seconds\".format(end_time - start_time))"
   ]
  },
  {
   "cell_type": "code",
   "execution_count": 67,
   "metadata": {
    "application/vnd.databricks.v1+cell": {
     "inputWidgets": {},
     "nuid": "91e1dd8b-1ddb-40a5-a914-9acc819a141a",
     "showTitle": false,
     "title": ""
    }
   },
   "outputs": [
    {
     "data": {
      "application/vnd.jupyter.widget-view+json": {
       "model_id": "edb1a4f23bc14e17994a403b21a444ef",
       "version_major": 2,
       "version_minor": 0
      },
      "text/plain": [
       "VBox()"
      ]
     },
     "metadata": {},
     "output_type": "display_data"
    },
    {
     "data": {
      "application/vnd.jupyter.widget-view+json": {
       "model_id": "",
       "version_major": 2,
       "version_minor": 0
      },
      "text/plain": [
       "FloatProgress(value=0.0, bar_style='info', description='Progress:', layout=Layout(height='25px', width='50%'),…"
      ]
     },
     "metadata": {},
     "output_type": "display_data"
    },
    {
     "name": "stdout",
     "output_type": "stream",
     "text": [
      "Accuracy =  0.26943311461843117\n",
      "Area Under ROC Curve =  0.5439516220736599\n",
      "Area Under PR Curve =  0.13314232404447854"
     ]
    }
   ],
   "source": [
    "acc = get_accuracy_score(predictions_80_svc)\n",
    "area_ROC = evaluator_ROC.evaluate(predictions_80_svc)\n",
    "area_PR = evaluator_PR.evaluate(predictions_80_svc)\n",
    "\n",
    "print('Accuracy = ', acc)\n",
    "print('Area Under ROC Curve = ', area_ROC)\n",
    "print('Area Under PR Curve = ', area_PR)"
   ]
  },
  {
   "cell_type": "markdown",
   "metadata": {
    "application/vnd.databricks.v1+cell": {
     "inputWidgets": {},
     "nuid": "79d8caa7-17c4-4c1b-a8d2-033f370d7dba",
     "showTitle": false,
     "title": ""
    }
   },
   "source": [
    "**Implementation on 60% of training set**"
   ]
  },
  {
   "cell_type": "code",
   "execution_count": 69,
   "metadata": {
    "application/vnd.databricks.v1+cell": {
     "inputWidgets": {},
     "nuid": "fb6b9712-a2a1-455a-9d4f-39b1cedde868",
     "showTitle": false,
     "title": ""
    }
   },
   "outputs": [
    {
     "data": {
      "application/vnd.jupyter.widget-view+json": {
       "model_id": "df927f1b71f14a9cb2fb022b8adb777e",
       "version_major": 2,
       "version_minor": 0
      },
      "text/plain": [
       "VBox()"
      ]
     },
     "metadata": {},
     "output_type": "display_data"
    },
    {
     "data": {
      "application/vnd.jupyter.widget-view+json": {
       "model_id": "",
       "version_major": 2,
       "version_minor": 0
      },
      "text/plain": [
       "FloatProgress(value=0.0, bar_style='info', description='Progress:', layout=Layout(height='25px', width='50%'),…"
      ]
     },
     "metadata": {},
     "output_type": "display_data"
    },
    {
     "name": "stdout",
     "output_type": "stream",
     "text": [
      "Total execution time: 17.00077986717224 seconds"
     ]
    }
   ],
   "source": [
    "start_time = time.time()\n",
    "\n",
    "predictions_60_svc, model_60_svc = get_classification_results(lsvc, train_60, test_60)\n",
    "\n",
    "end_time = time.time()\n",
    "print(\"Total execution time: {} seconds\".format(end_time - start_time))"
   ]
  },
  {
   "cell_type": "code",
   "execution_count": 70,
   "metadata": {
    "application/vnd.databricks.v1+cell": {
     "inputWidgets": {},
     "nuid": "10e0322c-602e-44e7-8a4b-c551c11229c9",
     "showTitle": false,
     "title": ""
    }
   },
   "outputs": [
    {
     "data": {
      "application/vnd.jupyter.widget-view+json": {
       "model_id": "7446b6663293447da9a9f3c16f669fcd",
       "version_major": 2,
       "version_minor": 0
      },
      "text/plain": [
       "VBox()"
      ]
     },
     "metadata": {},
     "output_type": "display_data"
    },
    {
     "data": {
      "application/vnd.jupyter.widget-view+json": {
       "model_id": "",
       "version_major": 2,
       "version_minor": 0
      },
      "text/plain": [
       "FloatProgress(value=0.0, bar_style='info', description='Progress:', layout=Layout(height='25px', width='50%'),…"
      ]
     },
     "metadata": {},
     "output_type": "display_data"
    },
    {
     "name": "stdout",
     "output_type": "stream",
     "text": [
      "Accuracy =  0.252625564028295\n",
      "Area Under ROC Curve =  0.5395765213808936\n",
      "Area Under PR Curve =  0.13189679168998925"
     ]
    },
    {
     "name": "stderr",
     "output_type": "stream",
     "text": [
      "Exception in thread cell_monitor-70:\n",
      "Traceback (most recent call last):\n",
      "  File \"/mnt/notebook-env/lib/python3.7/threading.py\", line 926, in _bootstrap_inner\n",
      "    self.run()\n",
      "  File \"/mnt/notebook-env/lib/python3.7/threading.py\", line 870, in run\n",
      "    self._target(*self._args, **self._kwargs)\n",
      "  File \"/mnt/notebook-env/lib/python3.7/site-packages/awseditorssparkmonitoringwidget-1.0-py3.7.egg/awseditorssparkmonitoringwidget/cellmonitor.py\", line 178, in cell_monitor\n",
      "    job_binned_stages[job_id][stage_id] = all_stages[stage_id]\n",
      "KeyError: 2996\n",
      "\n"
     ]
    }
   ],
   "source": [
    "acc = get_accuracy_score(predictions_60_svc)\n",
    "area_ROC = evaluator_ROC.evaluate(predictions_60_svc)\n",
    "area_PR = evaluator_PR.evaluate(predictions_60_svc)\n",
    "\n",
    "print('Accuracy = ', acc)\n",
    "print('Area Under ROC Curve = ', area_ROC)\n",
    "print('Area Under PR Curve = ', area_PR)"
   ]
  },
  {
   "cell_type": "markdown",
   "metadata": {
    "application/vnd.databricks.v1+cell": {
     "inputWidgets": {},
     "nuid": "96aa8cf1-c1f0-41bd-8116-8bfb85c1034a",
     "showTitle": false,
     "title": ""
    }
   },
   "source": [
    "**Implementation on 40% of training set**"
   ]
  },
  {
   "cell_type": "code",
   "execution_count": 73,
   "metadata": {
    "application/vnd.databricks.v1+cell": {
     "inputWidgets": {},
     "nuid": "8504bd97-fbca-4f2b-a231-19150ef29c92",
     "showTitle": false,
     "title": ""
    }
   },
   "outputs": [
    {
     "data": {
      "application/vnd.jupyter.widget-view+json": {
       "model_id": "9801e8d9257e44b7b555c56fe4574792",
       "version_major": 2,
       "version_minor": 0
      },
      "text/plain": [
       "VBox()"
      ]
     },
     "metadata": {},
     "output_type": "display_data"
    },
    {
     "data": {
      "application/vnd.jupyter.widget-view+json": {
       "model_id": "",
       "version_major": 2,
       "version_minor": 0
      },
      "text/plain": [
       "FloatProgress(value=0.0, bar_style='info', description='Progress:', layout=Layout(height='25px', width='50%'),…"
      ]
     },
     "metadata": {},
     "output_type": "display_data"
    },
    {
     "name": "stdout",
     "output_type": "stream",
     "text": [
      "Total execution time: 19.105817079544067 seconds"
     ]
    }
   ],
   "source": [
    "start_time = time.time()\n",
    "\n",
    "predictions_40_svc, model_40_svc = get_classification_results(lsvc, train_40, test_40)\n",
    "\n",
    "end_time = time.time()\n",
    "print(\"Total execution time: {} seconds\".format(end_time - start_time))"
   ]
  },
  {
   "cell_type": "code",
   "execution_count": 74,
   "metadata": {
    "application/vnd.databricks.v1+cell": {
     "inputWidgets": {},
     "nuid": "ebe64963-5c46-4754-b752-915b4479cc03",
     "showTitle": false,
     "title": ""
    }
   },
   "outputs": [
    {
     "data": {
      "application/vnd.jupyter.widget-view+json": {
       "model_id": "27c54017591d47299528152b765ebb01",
       "version_major": 2,
       "version_minor": 0
      },
      "text/plain": [
       "VBox()"
      ]
     },
     "metadata": {},
     "output_type": "display_data"
    },
    {
     "data": {
      "application/vnd.jupyter.widget-view+json": {
       "model_id": "",
       "version_major": 2,
       "version_minor": 0
      },
      "text/plain": [
       "FloatProgress(value=0.0, bar_style='info', description='Progress:', layout=Layout(height='25px', width='50%'),…"
      ]
     },
     "metadata": {},
     "output_type": "display_data"
    },
    {
     "name": "stderr",
     "output_type": "stream",
     "text": [
      "Exception in thread cell_monitor-74:\n",
      "Traceback (most recent call last):\n",
      "  File \"/mnt/notebook-env/lib/python3.7/threading.py\", line 926, in _bootstrap_inner\n",
      "    self.run()\n",
      "  File \"/mnt/notebook-env/lib/python3.7/threading.py\", line 870, in run\n",
      "    self._target(*self._args, **self._kwargs)\n",
      "  File \"/mnt/notebook-env/lib/python3.7/site-packages/awseditorssparkmonitoringwidget-1.0-py3.7.egg/awseditorssparkmonitoringwidget/cellmonitor.py\", line 178, in cell_monitor\n",
      "    job_binned_stages[job_id][stage_id] = all_stages[stage_id]\n",
      "KeyError: 3497\n",
      "\n"
     ]
    },
    {
     "name": "stdout",
     "output_type": "stream",
     "text": [
      "Accuracy =  0.253472837973636\n",
      "Area Under ROC Curve =  0.5367346633632495\n",
      "Area Under PR Curve =  0.1311726451445018"
     ]
    }
   ],
   "source": [
    "acc = get_accuracy_score(predictions_40_svc)\n",
    "area_ROC = evaluator_ROC.evaluate(predictions_40_svc)\n",
    "area_PR = evaluator_PR.evaluate(predictions_40_svc)\n",
    "\n",
    "print('Accuracy = ', acc)\n",
    "print('Area Under ROC Curve = ', area_ROC)\n",
    "print('Area Under PR Curve = ', area_PR)"
   ]
  },
  {
   "cell_type": "markdown",
   "metadata": {
    "application/vnd.databricks.v1+cell": {
     "inputWidgets": {},
     "nuid": "fadf7e88-fdf7-4689-87a7-a3e581625890",
     "showTitle": false,
     "title": ""
    }
   },
   "source": [
    "**Implementation on 20% of training set**"
   ]
  },
  {
   "cell_type": "code",
   "execution_count": 75,
   "metadata": {
    "application/vnd.databricks.v1+cell": {
     "inputWidgets": {},
     "nuid": "934c1034-4a36-4dd2-9662-a6becb4011f5",
     "showTitle": false,
     "title": ""
    }
   },
   "outputs": [
    {
     "data": {
      "application/vnd.jupyter.widget-view+json": {
       "model_id": "b0f77f82797542b8a17d61eca8a929fb",
       "version_major": 2,
       "version_minor": 0
      },
      "text/plain": [
       "VBox()"
      ]
     },
     "metadata": {},
     "output_type": "display_data"
    },
    {
     "data": {
      "application/vnd.jupyter.widget-view+json": {
       "model_id": "",
       "version_major": 2,
       "version_minor": 0
      },
      "text/plain": [
       "FloatProgress(value=0.0, bar_style='info', description='Progress:', layout=Layout(height='25px', width='50%'),…"
      ]
     },
     "metadata": {},
     "output_type": "display_data"
    },
    {
     "name": "stdout",
     "output_type": "stream",
     "text": [
      "Total execution time: 10.209076881408691 seconds"
     ]
    }
   ],
   "source": [
    "start_time = time.time()\n",
    "\n",
    "predictions_20_svc, model_20_svc = get_classification_results(lsvc, train_20, test_20)\n",
    "\n",
    "end_time = time.time()\n",
    "print(\"Total execution time: {} seconds\".format(end_time - start_time))"
   ]
  },
  {
   "cell_type": "code",
   "execution_count": 76,
   "metadata": {
    "application/vnd.databricks.v1+cell": {
     "inputWidgets": {},
     "nuid": "5666c09d-2638-4495-a58f-aeff39f3c615",
     "showTitle": false,
     "title": ""
    }
   },
   "outputs": [
    {
     "data": {
      "application/vnd.jupyter.widget-view+json": {
       "model_id": "79e71012e3594fdd837b4971548cf3e8",
       "version_major": 2,
       "version_minor": 0
      },
      "text/plain": [
       "VBox()"
      ]
     },
     "metadata": {},
     "output_type": "display_data"
    },
    {
     "data": {
      "application/vnd.jupyter.widget-view+json": {
       "model_id": "",
       "version_major": 2,
       "version_minor": 0
      },
      "text/plain": [
       "FloatProgress(value=0.0, bar_style='info', description='Progress:', layout=Layout(height='25px', width='50%'),…"
      ]
     },
     "metadata": {},
     "output_type": "display_data"
    },
    {
     "name": "stdout",
     "output_type": "stream",
     "text": [
      "Accuracy =  0.7937183503773325\n",
      "Area Under ROC Curve =  0.5537271698683495\n",
      "Area Under PR Curve =  0.17260642610452648"
     ]
    }
   ],
   "source": [
    "acc = get_accuracy_score(predictions_20_svc)\n",
    "area_ROC = evaluator_ROC.evaluate(predictions_20_svc)\n",
    "area_PR = evaluator_PR.evaluate(predictions_20_svc)\n",
    "\n",
    "print('Accuracy = ', acc)\n",
    "print('Area Under ROC Curve = ', area_ROC)\n",
    "print('Area Under PR Curve = ', area_PR)"
   ]
  },
  {
   "cell_type": "markdown",
   "metadata": {
    "application/vnd.databricks.v1+cell": {
     "inputWidgets": {},
     "nuid": "07bb1430-aed1-49dd-af60-e347bac018fb",
     "showTitle": false,
     "title": ""
    }
   },
   "source": [
    "## Logistic Regression"
   ]
  },
  {
   "cell_type": "markdown",
   "metadata": {
    "application/vnd.databricks.v1+cell": {
     "inputWidgets": {},
     "nuid": "690c5ed6-21c8-4973-ac89-026e8f2c6866",
     "showTitle": false,
     "title": ""
    }
   },
   "source": [
    "**Implementation of Logistic Regression on full training set**"
   ]
  },
  {
   "cell_type": "code",
   "execution_count": 77,
   "metadata": {
    "application/vnd.databricks.v1+cell": {
     "inputWidgets": {},
     "nuid": "f9fd7d8c-ebfa-4238-857f-5c89f30558a7",
     "showTitle": false,
     "title": ""
    }
   },
   "outputs": [
    {
     "data": {
      "application/vnd.jupyter.widget-view+json": {
       "model_id": "17d4eccf44454c82b4e1a5564e76613a",
       "version_major": 2,
       "version_minor": 0
      },
      "text/plain": [
       "VBox()"
      ]
     },
     "metadata": {},
     "output_type": "display_data"
    },
    {
     "data": {
      "application/vnd.jupyter.widget-view+json": {
       "model_id": "",
       "version_major": 2,
       "version_minor": 0
      },
      "text/plain": [
       "FloatProgress(value=0.0, bar_style='info', description='Progress:', layout=Layout(height='25px', width='50%'),…"
      ]
     },
     "metadata": {},
     "output_type": "display_data"
    },
    {
     "name": "stdout",
     "output_type": "stream",
     "text": [
      "Total execution time: 22.42728352546692 seconds"
     ]
    }
   ],
   "source": [
    "from pyspark.ml.classification import LogisticRegression\n",
    "\n",
    "lr = LogisticRegression(labelCol='Risk_Flag', \n",
    "                        featuresCol='features',\n",
    "                        weightCol='weight', \n",
    "                        standardization=False,\n",
    "                        maxIter=200,\n",
    "                        regParam=0.1)\n",
    "\n",
    "start_time = time.time()\n",
    "\n",
    "predictions_lr, model_lr = get_classification_results(lr, train_full, test_full)\n",
    "\n",
    "end_time = time.time()\n",
    "print(\"Total execution time: {} seconds\".format(end_time - start_time))"
   ]
  },
  {
   "cell_type": "code",
   "execution_count": 78,
   "metadata": {
    "application/vnd.databricks.v1+cell": {
     "inputWidgets": {},
     "nuid": "8024ec3f-529b-4bc8-bec3-f85c09b0e1d2",
     "showTitle": false,
     "title": ""
    }
   },
   "outputs": [
    {
     "data": {
      "application/vnd.jupyter.widget-view+json": {
       "model_id": "fb151808bf5941909b21ee0c20c2453d",
       "version_major": 2,
       "version_minor": 0
      },
      "text/plain": [
       "VBox()"
      ]
     },
     "metadata": {},
     "output_type": "display_data"
    },
    {
     "data": {
      "application/vnd.jupyter.widget-view+json": {
       "model_id": "",
       "version_major": 2,
       "version_minor": 0
      },
      "text/plain": [
       "FloatProgress(value=0.0, bar_style='info', description='Progress:', layout=Layout(height='25px', width='50%'),…"
      ]
     },
     "metadata": {},
     "output_type": "display_data"
    },
    {
     "name": "stdout",
     "output_type": "stream",
     "text": [
      "Accuracy =  0.5262950483734311\n",
      "Area Under ROC Curve =  0.5420526845385911\n",
      "Area Under PR Curve =  0.13672808341967205"
     ]
    }
   ],
   "source": [
    "acc = get_accuracy_score(predictions_lr)\n",
    "area_ROC = evaluator_ROC.evaluate(predictions_lr)\n",
    "area_PR = evaluator_PR.evaluate(predictions_lr)\n",
    "\n",
    "print('Accuracy = ', acc)\n",
    "print('Area Under ROC Curve = ', area_ROC)\n",
    "print('Area Under PR Curve = ', area_PR)"
   ]
  },
  {
   "cell_type": "markdown",
   "metadata": {
    "application/vnd.databricks.v1+cell": {
     "inputWidgets": {},
     "nuid": "cb02df65-44a5-4bb9-ab1e-85130986033c",
     "showTitle": false,
     "title": ""
    }
   },
   "source": [
    "**Implementation of Logistic Regression oversampled training set**"
   ]
  },
  {
   "cell_type": "code",
   "execution_count": 79,
   "metadata": {
    "application/vnd.databricks.v1+cell": {
     "inputWidgets": {},
     "nuid": "8d48d3b3-7f45-47e5-9f0e-11208cec214d",
     "showTitle": false,
     "title": ""
    }
   },
   "outputs": [
    {
     "data": {
      "application/vnd.jupyter.widget-view+json": {
       "model_id": "5746bb75220b4b7590160b68c92613a8",
       "version_major": 2,
       "version_minor": 0
      },
      "text/plain": [
       "VBox()"
      ]
     },
     "metadata": {},
     "output_type": "display_data"
    },
    {
     "data": {
      "application/vnd.jupyter.widget-view+json": {
       "model_id": "",
       "version_major": 2,
       "version_minor": 0
      },
      "text/plain": [
       "FloatProgress(value=0.0, bar_style='info', description='Progress:', layout=Layout(height='25px', width='50%'),…"
      ]
     },
     "metadata": {},
     "output_type": "display_data"
    },
    {
     "name": "stderr",
     "output_type": "stream",
     "text": [
      "Exception in thread cell_monitor-79:\n",
      "Traceback (most recent call last):\n",
      "  File \"/mnt/notebook-env/lib/python3.7/threading.py\", line 926, in _bootstrap_inner\n",
      "    self.run()\n",
      "  File \"/mnt/notebook-env/lib/python3.7/threading.py\", line 870, in run\n",
      "    self._target(*self._args, **self._kwargs)\n",
      "  File \"/mnt/notebook-env/lib/python3.7/site-packages/awseditorssparkmonitoringwidget-1.0-py3.7.egg/awseditorssparkmonitoringwidget/cellmonitor.py\", line 178, in cell_monitor\n",
      "    job_binned_stages[job_id][stage_id] = all_stages[stage_id]\n",
      "KeyError: 3896\n",
      "\n"
     ]
    },
    {
     "name": "stdout",
     "output_type": "stream",
     "text": [
      "Total execution time: 57.073182106018066 seconds"
     ]
    }
   ],
   "source": [
    "lr_over = LogisticRegression(labelCol='Risk_Flag', \n",
    "                        featuresCol='features', \n",
    "                        standardization=False,\n",
    "                        maxIter=200,\n",
    "                        regParam=0.1)\n",
    "\n",
    "start_time = time.time()\n",
    "\n",
    "predictions_over_lr, model_over_lr = get_classification_results(lr_over, train_over, test_over)\n",
    "\n",
    "end_time = time.time()\n",
    "print(\"Total execution time: {} seconds\".format(end_time - start_time))"
   ]
  },
  {
   "cell_type": "code",
   "execution_count": 80,
   "metadata": {
    "application/vnd.databricks.v1+cell": {
     "inputWidgets": {},
     "nuid": "4939748a-5c11-4b23-92a5-332df579227c",
     "showTitle": false,
     "title": ""
    }
   },
   "outputs": [
    {
     "data": {
      "application/vnd.jupyter.widget-view+json": {
       "model_id": "b54b9cfda73a4b2b857986516f391583",
       "version_major": 2,
       "version_minor": 0
      },
      "text/plain": [
       "VBox()"
      ]
     },
     "metadata": {},
     "output_type": "display_data"
    },
    {
     "data": {
      "application/vnd.jupyter.widget-view+json": {
       "model_id": "",
       "version_major": 2,
       "version_minor": 0
      },
      "text/plain": [
       "FloatProgress(value=0.0, bar_style='info', description='Progress:', layout=Layout(height='25px', width='50%'),…"
      ]
     },
     "metadata": {},
     "output_type": "display_data"
    },
    {
     "name": "stdout",
     "output_type": "stream",
     "text": [
      "Accuracy =  0.5801123484773825\n",
      "Area Under ROC Curve =  0.5328949834385808\n",
      "Area Under PR Curve =  0.13628112650952728"
     ]
    }
   ],
   "source": [
    "acc = get_accuracy_score(predictions_over_lr)\n",
    "area_ROC = evaluator_ROC.evaluate(predictions_over_lr)\n",
    "area_PR = evaluator_PR.evaluate(predictions_over_lr)\n",
    "\n",
    "print('Accuracy = ', acc)\n",
    "print('Area Under ROC Curve = ', area_ROC)\n",
    "print('Area Under PR Curve = ', area_PR)"
   ]
  },
  {
   "cell_type": "markdown",
   "metadata": {},
   "source": [
    "**Implementation of Logistic Regression on undersampled training set**"
   ]
  },
  {
   "cell_type": "code",
   "execution_count": 86,
   "metadata": {},
   "outputs": [
    {
     "data": {
      "application/vnd.jupyter.widget-view+json": {
       "model_id": "295d505a5cbf497d980aeeda797d23eb",
       "version_major": 2,
       "version_minor": 0
      },
      "text/plain": [
       "VBox()"
      ]
     },
     "metadata": {},
     "output_type": "display_data"
    },
    {
     "data": {
      "application/vnd.jupyter.widget-view+json": {
       "model_id": "",
       "version_major": 2,
       "version_minor": 0
      },
      "text/plain": [
       "FloatProgress(value=0.0, bar_style='info', description='Progress:', layout=Layout(height='25px', width='50%'),…"
      ]
     },
     "metadata": {},
     "output_type": "display_data"
    },
    {
     "name": "stdout",
     "output_type": "stream",
     "text": [
      "Total execution time: 13.660803318023682 seconds"
     ]
    }
   ],
   "source": [
    "lr_under = LogisticRegression(labelCol='Risk_Flag', \n",
    "                        featuresCol='features', \n",
    "                        standardization=False,\n",
    "                        maxIter=200,\n",
    "                        regParam=0.1)\n",
    "\n",
    "start_time = time.time()\n",
    "\n",
    "predictions_under_lr, model_under_lr = get_classification_results(lr_under, train_under, test_under)\n",
    "\n",
    "end_time = time.time()\n",
    "print(\"Total execution time: {} seconds\".format(end_time - start_time))"
   ]
  },
  {
   "cell_type": "code",
   "execution_count": 87,
   "metadata": {},
   "outputs": [
    {
     "data": {
      "application/vnd.jupyter.widget-view+json": {
       "model_id": "e08763fc93364b60a7fb1f3d2bc3cc17",
       "version_major": 2,
       "version_minor": 0
      },
      "text/plain": [
       "VBox()"
      ]
     },
     "metadata": {},
     "output_type": "display_data"
    },
    {
     "data": {
      "application/vnd.jupyter.widget-view+json": {
       "model_id": "",
       "version_major": 2,
       "version_minor": 0
      },
      "text/plain": [
       "FloatProgress(value=0.0, bar_style='info', description='Progress:', layout=Layout(height='25px', width='50%'),…"
      ]
     },
     "metadata": {},
     "output_type": "display_data"
    },
    {
     "name": "stdout",
     "output_type": "stream",
     "text": [
      "Accuracy =  0.5902434217009954\n",
      "Area Under ROC Curve =  0.5331263088668381\n",
      "Area Under PR Curve =  0.1366811126480058"
     ]
    },
    {
     "name": "stderr",
     "output_type": "stream",
     "text": [
      "Exception in thread cell_monitor-87:\n",
      "Traceback (most recent call last):\n",
      "  File \"/mnt/notebook-env/lib/python3.7/threading.py\", line 926, in _bootstrap_inner\n",
      "    self.run()\n",
      "  File \"/mnt/notebook-env/lib/python3.7/threading.py\", line 870, in run\n",
      "    self._target(*self._args, **self._kwargs)\n",
      "  File \"/mnt/notebook-env/lib/python3.7/site-packages/awseditorssparkmonitoringwidget-1.0-py3.7.egg/awseditorssparkmonitoringwidget/cellmonitor.py\", line 178, in cell_monitor\n",
      "    job_binned_stages[job_id][stage_id] = all_stages[stage_id]\n",
      "KeyError: 4896\n",
      "\n"
     ]
    }
   ],
   "source": [
    "acc = get_accuracy_score(predictions_under_lr)\n",
    "area_ROC = evaluator_ROC.evaluate(predictions_under_lr)\n",
    "area_PR = evaluator_PR.evaluate(predictions_under_lr)\n",
    "\n",
    "print('Accuracy = ', acc)\n",
    "print('Area Under ROC Curve = ', area_ROC)\n",
    "print('Area Under PR Curve = ', area_PR)"
   ]
  },
  {
   "cell_type": "markdown",
   "metadata": {
    "application/vnd.databricks.v1+cell": {
     "inputWidgets": {},
     "nuid": "064526c8-b271-4869-ae40-c3ea1abcb332",
     "showTitle": false,
     "title": ""
    }
   },
   "source": [
    "**Implementation of Logistic Regression on 80% of training set**"
   ]
  },
  {
   "cell_type": "code",
   "execution_count": 88,
   "metadata": {
    "application/vnd.databricks.v1+cell": {
     "inputWidgets": {},
     "nuid": "07e3b915-dc9f-4159-9af6-7330ba20a5cc",
     "showTitle": false,
     "title": ""
    }
   },
   "outputs": [
    {
     "data": {
      "application/vnd.jupyter.widget-view+json": {
       "model_id": "c42145109f1d440fb3e3c917d3530080",
       "version_major": 2,
       "version_minor": 0
      },
      "text/plain": [
       "VBox()"
      ]
     },
     "metadata": {},
     "output_type": "display_data"
    },
    {
     "data": {
      "application/vnd.jupyter.widget-view+json": {
       "model_id": "",
       "version_major": 2,
       "version_minor": 0
      },
      "text/plain": [
       "FloatProgress(value=0.0, bar_style='info', description='Progress:', layout=Layout(height='25px', width='50%'),…"
      ]
     },
     "metadata": {},
     "output_type": "display_data"
    },
    {
     "name": "stdout",
     "output_type": "stream",
     "text": [
      "Total execution time: 12.917373657226562 seconds"
     ]
    }
   ],
   "source": [
    "start_time = time.time()\n",
    "\n",
    "predictions_80_lr, model_80_lr = get_classification_results(lr, train_80, test_80)\n",
    "\n",
    "end_time = time.time()\n",
    "print(\"Total execution time: {} seconds\".format(end_time - start_time))"
   ]
  },
  {
   "cell_type": "code",
   "execution_count": 83,
   "metadata": {
    "application/vnd.databricks.v1+cell": {
     "inputWidgets": {},
     "nuid": "387e0fb7-0b14-4108-ba91-72ae16768e2a",
     "showTitle": false,
     "title": ""
    }
   },
   "outputs": [
    {
     "data": {
      "application/vnd.jupyter.widget-view+json": {
       "model_id": "179abe0a71e8471893b4eb2f9bb2b9a0",
       "version_major": 2,
       "version_minor": 0
      },
      "text/plain": [
       "VBox()"
      ]
     },
     "metadata": {},
     "output_type": "display_data"
    },
    {
     "data": {
      "application/vnd.jupyter.widget-view+json": {
       "model_id": "",
       "version_major": 2,
       "version_minor": 0
      },
      "text/plain": [
       "FloatProgress(value=0.0, bar_style='info', description='Progress:', layout=Layout(height='25px', width='50%'),…"
      ]
     },
     "metadata": {},
     "output_type": "display_data"
    },
    {
     "name": "stdout",
     "output_type": "stream",
     "text": [
      "Accuracy =  0.5329747197099565\n",
      "Area Under ROC Curve =  0.5411375847728928\n",
      "Area Under PR Curve =  0.13665506770597832"
     ]
    }
   ],
   "source": [
    "acc = get_accuracy_score(predictions_80_lr)\n",
    "area_ROC = evaluator_ROC.evaluate(predictions_80_lr)\n",
    "area_PR = evaluator_PR.evaluate(predictions_80_lr)\n",
    "\n",
    "print('Accuracy = ', acc)\n",
    "print('Area Under ROC Curve = ', area_ROC)\n",
    "print('Area Under PR Curve = ', area_PR)"
   ]
  },
  {
   "cell_type": "markdown",
   "metadata": {
    "application/vnd.databricks.v1+cell": {
     "inputWidgets": {},
     "nuid": "98ddac51-7db8-4d4a-8598-f7062434e9d4",
     "showTitle": false,
     "title": ""
    }
   },
   "source": [
    "**Implementation of Logistic Regression on 60% of training set**"
   ]
  },
  {
   "cell_type": "code",
   "execution_count": 89,
   "metadata": {
    "application/vnd.databricks.v1+cell": {
     "inputWidgets": {},
     "nuid": "bd086d0d-d0d0-497e-8052-8f7e09f5a5de",
     "showTitle": false,
     "title": ""
    }
   },
   "outputs": [
    {
     "data": {
      "application/vnd.jupyter.widget-view+json": {
       "model_id": "66d71e7f5368400abbbf0e2a1f0ce927",
       "version_major": 2,
       "version_minor": 0
      },
      "text/plain": [
       "VBox()"
      ]
     },
     "metadata": {},
     "output_type": "display_data"
    },
    {
     "data": {
      "application/vnd.jupyter.widget-view+json": {
       "model_id": "",
       "version_major": 2,
       "version_minor": 0
      },
      "text/plain": [
       "FloatProgress(value=0.0, bar_style='info', description='Progress:', layout=Layout(height='25px', width='50%'),…"
      ]
     },
     "metadata": {},
     "output_type": "display_data"
    },
    {
     "name": "stdout",
     "output_type": "stream",
     "text": [
      "Total execution time: 7.288186311721802 seconds"
     ]
    }
   ],
   "source": [
    "start_time = time.time()\n",
    "\n",
    "predictions_60_lr, model_60_lr = get_classification_results(lr, train_60, test_60)\n",
    "\n",
    "end_time = time.time()\n",
    "print(\"Total execution time: {} seconds\".format(end_time - start_time))"
   ]
  },
  {
   "cell_type": "code",
   "execution_count": 90,
   "metadata": {
    "application/vnd.databricks.v1+cell": {
     "inputWidgets": {},
     "nuid": "b69a6e6c-037f-41d3-863e-08bb89248cee",
     "showTitle": false,
     "title": ""
    }
   },
   "outputs": [
    {
     "data": {
      "application/vnd.jupyter.widget-view+json": {
       "model_id": "81382ff5ce144c84b8c19327e45a2cc8",
       "version_major": 2,
       "version_minor": 0
      },
      "text/plain": [
       "VBox()"
      ]
     },
     "metadata": {},
     "output_type": "display_data"
    },
    {
     "data": {
      "application/vnd.jupyter.widget-view+json": {
       "model_id": "",
       "version_major": 2,
       "version_minor": 0
      },
      "text/plain": [
       "FloatProgress(value=0.0, bar_style='info', description='Progress:', layout=Layout(height='25px', width='50%'),…"
      ]
     },
     "metadata": {},
     "output_type": "display_data"
    },
    {
     "name": "stdout",
     "output_type": "stream",
     "text": [
      "Accuracy =  0.5308761210209915\n",
      "Area Under ROC Curve =  0.5343289822954491\n",
      "Area Under PR Curve =  0.13553542550694037"
     ]
    }
   ],
   "source": [
    "acc = get_accuracy_score(predictions_60_lr)\n",
    "area_ROC = evaluator_ROC.evaluate(predictions_60_lr)\n",
    "area_PR = evaluator_PR.evaluate(predictions_60_lr)\n",
    "\n",
    "print('Accuracy = ', acc)\n",
    "print('Area Under ROC Curve = ', area_ROC)\n",
    "print('Area Under PR Curve = ', area_PR)"
   ]
  },
  {
   "cell_type": "markdown",
   "metadata": {
    "application/vnd.databricks.v1+cell": {
     "inputWidgets": {},
     "nuid": "dff9c141-cb87-4507-a0fa-b5a5ae4564a6",
     "showTitle": false,
     "title": ""
    }
   },
   "source": [
    "**Implementation of 40% of training set**"
   ]
  },
  {
   "cell_type": "code",
   "execution_count": 96,
   "metadata": {
    "application/vnd.databricks.v1+cell": {
     "inputWidgets": {},
     "nuid": "4d9d1f0c-a805-4752-8cb0-8cbcd5319307",
     "showTitle": false,
     "title": ""
    }
   },
   "outputs": [
    {
     "data": {
      "application/vnd.jupyter.widget-view+json": {
       "model_id": "058bb15e502c495e933df176b6e993ed",
       "version_major": 2,
       "version_minor": 0
      },
      "text/plain": [
       "VBox()"
      ]
     },
     "metadata": {},
     "output_type": "display_data"
    },
    {
     "data": {
      "application/vnd.jupyter.widget-view+json": {
       "model_id": "",
       "version_major": 2,
       "version_minor": 0
      },
      "text/plain": [
       "FloatProgress(value=0.0, bar_style='info', description='Progress:', layout=Layout(height='25px', width='50%'),…"
      ]
     },
     "metadata": {},
     "output_type": "display_data"
    },
    {
     "name": "stdout",
     "output_type": "stream",
     "text": [
      "Total execution time: 9.310492515563965 seconds"
     ]
    }
   ],
   "source": [
    "start_time = time.time()\n",
    "\n",
    "predictions_40_lr, model_40_lr = get_classification_results(lr, train_40, test_40)\n",
    "\n",
    "end_time = time.time()\n",
    "print(\"Total execution time: {} seconds\".format(end_time - start_time))"
   ]
  },
  {
   "cell_type": "code",
   "execution_count": 97,
   "metadata": {
    "application/vnd.databricks.v1+cell": {
     "inputWidgets": {},
     "nuid": "306f7117-8c77-46ce-841a-d0d2e1c33e30",
     "showTitle": false,
     "title": ""
    }
   },
   "outputs": [
    {
     "data": {
      "application/vnd.jupyter.widget-view+json": {
       "model_id": "ff296312d95b44a1a0ad5826d39ec0af",
       "version_major": 2,
       "version_minor": 0
      },
      "text/plain": [
       "VBox()"
      ]
     },
     "metadata": {},
     "output_type": "display_data"
    },
    {
     "data": {
      "application/vnd.jupyter.widget-view+json": {
       "model_id": "",
       "version_major": 2,
       "version_minor": 0
      },
      "text/plain": [
       "FloatProgress(value=0.0, bar_style='info', description='Progress:', layout=Layout(height='25px', width='50%'),…"
      ]
     },
     "metadata": {},
     "output_type": "display_data"
    },
    {
     "name": "stdout",
     "output_type": "stream",
     "text": [
      "Accuracy =  0.491478000433489\n",
      "Area Under ROC Curve =  0.54239320620698\n",
      "Area Under PR Curve =  0.13598620884570195"
     ]
    }
   ],
   "source": [
    "acc = get_accuracy_score(predictions_40_lr)\n",
    "area_ROC = evaluator_ROC.evaluate(predictions_40_lr)\n",
    "area_PR = evaluator_PR.evaluate(predictions_40_lr)\n",
    "\n",
    "print('Accuracy = ', acc)\n",
    "print('Area Under ROC Curve = ', area_ROC)\n",
    "print('Area Under PR Curve = ', area_PR)"
   ]
  },
  {
   "cell_type": "markdown",
   "metadata": {
    "application/vnd.databricks.v1+cell": {
     "inputWidgets": {},
     "nuid": "0d136646-89d9-4542-b8f6-4f043aa3e276",
     "showTitle": false,
     "title": ""
    }
   },
   "source": [
    "**Implementation of 20% of training set**"
   ]
  },
  {
   "cell_type": "code",
   "execution_count": 99,
   "metadata": {
    "application/vnd.databricks.v1+cell": {
     "inputWidgets": {},
     "nuid": "abe61569-4f23-4655-b1f6-dbd2f592e69b",
     "showTitle": false,
     "title": ""
    }
   },
   "outputs": [
    {
     "data": {
      "application/vnd.jupyter.widget-view+json": {
       "model_id": "0b82f72c64a5447d854c2101a86a504f",
       "version_major": 2,
       "version_minor": 0
      },
      "text/plain": [
       "VBox()"
      ]
     },
     "metadata": {},
     "output_type": "display_data"
    },
    {
     "data": {
      "application/vnd.jupyter.widget-view+json": {
       "model_id": "",
       "version_major": 2,
       "version_minor": 0
      },
      "text/plain": [
       "FloatProgress(value=0.0, bar_style='info', description='Progress:', layout=Layout(height='25px', width='50%'),…"
      ]
     },
     "metadata": {},
     "output_type": "display_data"
    },
    {
     "name": "stdout",
     "output_type": "stream",
     "text": [
      "Total execution time: 8.076089143753052 seconds"
     ]
    }
   ],
   "source": [
    "start_time = time.time()\n",
    "\n",
    "predictions_20_lr, model_20_lr = get_classification_results(lr, train_20, test_20)\n",
    "\n",
    "end_time = time.time()\n",
    "print(\"Total execution time: {} seconds\".format(end_time - start_time))"
   ]
  },
  {
   "cell_type": "code",
   "execution_count": 100,
   "metadata": {
    "application/vnd.databricks.v1+cell": {
     "inputWidgets": {},
     "nuid": "296ff389-e05c-4b67-8809-8fa43f7e09ae",
     "showTitle": false,
     "title": ""
    }
   },
   "outputs": [
    {
     "data": {
      "application/vnd.jupyter.widget-view+json": {
       "model_id": "2ce2b0613e5a423caecde77caa2f90df",
       "version_major": 2,
       "version_minor": 0
      },
      "text/plain": [
       "VBox()"
      ]
     },
     "metadata": {},
     "output_type": "display_data"
    },
    {
     "data": {
      "application/vnd.jupyter.widget-view+json": {
       "model_id": "",
       "version_major": 2,
       "version_minor": 0
      },
      "text/plain": [
       "FloatProgress(value=0.0, bar_style='info', description='Progress:', layout=Layout(height='25px', width='50%'),…"
      ]
     },
     "metadata": {},
     "output_type": "display_data"
    },
    {
     "name": "stdout",
     "output_type": "stream",
     "text": [
      "Accuracy =  0.5790624815274575\n",
      "Area Under ROC Curve =  0.541746591549863\n",
      "Area Under PR Curve =  0.13826145651143884"
     ]
    }
   ],
   "source": [
    "acc = get_accuracy_score(predictions_20_lr)\n",
    "area_ROC = evaluator_ROC.evaluate(predictions_20_lr)\n",
    "area_PR = evaluator_PR.evaluate(predictions_20_lr)\n",
    "\n",
    "print('Accuracy = ', acc)\n",
    "print('Area Under ROC Curve = ', area_ROC)\n",
    "print('Area Under PR Curve = ', area_PR)"
   ]
  },
  {
   "cell_type": "markdown",
   "metadata": {
    "application/vnd.databricks.v1+cell": {
     "inputWidgets": {},
     "nuid": "4c63128b-bb32-46e1-8868-55a3a559e849",
     "showTitle": false,
     "title": ""
    }
   },
   "source": [
    "## Naive Bayes Classifier"
   ]
  },
  {
   "cell_type": "markdown",
   "metadata": {
    "application/vnd.databricks.v1+cell": {
     "inputWidgets": {},
     "nuid": "f2cca2ac-7c98-4674-a19a-553034425207",
     "showTitle": false,
     "title": ""
    }
   },
   "source": [
    "**Implementation of Naive Bayes on full training set**"
   ]
  },
  {
   "cell_type": "code",
   "execution_count": 101,
   "metadata": {
    "application/vnd.databricks.v1+cell": {
     "inputWidgets": {},
     "nuid": "1ec09015-0026-4ba2-be81-40729cdb8bb0",
     "showTitle": false,
     "title": ""
    }
   },
   "outputs": [
    {
     "data": {
      "application/vnd.jupyter.widget-view+json": {
       "model_id": "b12b70870b6149cca875c8792012562e",
       "version_major": 2,
       "version_minor": 0
      },
      "text/plain": [
       "VBox()"
      ]
     },
     "metadata": {},
     "output_type": "display_data"
    },
    {
     "data": {
      "application/vnd.jupyter.widget-view+json": {
       "model_id": "",
       "version_major": 2,
       "version_minor": 0
      },
      "text/plain": [
       "FloatProgress(value=0.0, bar_style='info', description='Progress:', layout=Layout(height='25px', width='50%'),…"
      ]
     },
     "metadata": {},
     "output_type": "display_data"
    },
    {
     "name": "stdout",
     "output_type": "stream",
     "text": [
      "Total execution time: 16.379687309265137 seconds"
     ]
    }
   ],
   "source": [
    "from pyspark.ml.classification import NaiveBayes\n",
    "\n",
    "nb = NaiveBayes(smoothing=0.5, labelCol='Risk_Flag', \n",
    "                featuresCol='features',\n",
    "                weightCol='weight')\n",
    "\n",
    "start_time = time.time()\n",
    "\n",
    "predictions_nb, model_nb = get_classification_results(nb, train_full, test_full)\n",
    "\n",
    "end_time = time.time()\n",
    "print(\"Total execution time: {} seconds\".format(end_time - start_time))"
   ]
  },
  {
   "cell_type": "code",
   "execution_count": 102,
   "metadata": {
    "application/vnd.databricks.v1+cell": {
     "inputWidgets": {},
     "nuid": "f05047cc-c9eb-4735-82ce-2602d8e89596",
     "showTitle": false,
     "title": ""
    }
   },
   "outputs": [
    {
     "data": {
      "application/vnd.jupyter.widget-view+json": {
       "model_id": "651e7ac74cf1421cb5d8531251121606",
       "version_major": 2,
       "version_minor": 0
      },
      "text/plain": [
       "VBox()"
      ]
     },
     "metadata": {},
     "output_type": "display_data"
    },
    {
     "data": {
      "application/vnd.jupyter.widget-view+json": {
       "model_id": "",
       "version_major": 2,
       "version_minor": 0
      },
      "text/plain": [
       "FloatProgress(value=0.0, bar_style='info', description='Progress:', layout=Layout(height='25px', width='50%'),…"
      ]
     },
     "metadata": {},
     "output_type": "display_data"
    },
    {
     "name": "stdout",
     "output_type": "stream",
     "text": [
      "Accuracy =  0.5802250201966463\n",
      "Area Under ROC Curve =  0.5894141618907046\n",
      "Area Under PR Curve =  0.15687669259692577"
     ]
    },
    {
     "name": "stderr",
     "output_type": "stream",
     "text": [
      "Exception in thread cell_monitor-102:\n",
      "Traceback (most recent call last):\n",
      "  File \"/mnt/notebook-env/lib/python3.7/threading.py\", line 926, in _bootstrap_inner\n",
      "    self.run()\n",
      "  File \"/mnt/notebook-env/lib/python3.7/threading.py\", line 870, in run\n",
      "    self._target(*self._args, **self._kwargs)\n",
      "  File \"/mnt/notebook-env/lib/python3.7/site-packages/awseditorssparkmonitoringwidget-1.0-py3.7.egg/awseditorssparkmonitoringwidget/cellmonitor.py\", line 178, in cell_monitor\n",
      "    job_binned_stages[job_id][stage_id] = all_stages[stage_id]\n",
      "KeyError: 6098\n",
      "\n"
     ]
    }
   ],
   "source": [
    "acc = get_accuracy_score(predictions_nb)\n",
    "area_ROC = evaluator_ROC.evaluate(predictions_nb)\n",
    "area_PR = evaluator_PR.evaluate(predictions_nb)\n",
    "\n",
    "print('Accuracy = ', acc)\n",
    "print('Area Under ROC Curve = ', area_ROC)\n",
    "print('Area Under PR Curve = ', area_PR)"
   ]
  },
  {
   "cell_type": "markdown",
   "metadata": {
    "application/vnd.databricks.v1+cell": {
     "inputWidgets": {},
     "nuid": "e101a028-d721-4d2d-9620-2d2a67515948",
     "showTitle": false,
     "title": ""
    }
   },
   "source": [
    "**Implementation of Naive Bayes on Oversampled training set**"
   ]
  },
  {
   "cell_type": "code",
   "execution_count": 110,
   "metadata": {
    "application/vnd.databricks.v1+cell": {
     "inputWidgets": {},
     "nuid": "cf93ceb5-a988-4e17-b5d1-688196c88de9",
     "showTitle": false,
     "title": ""
    }
   },
   "outputs": [
    {
     "data": {
      "application/vnd.jupyter.widget-view+json": {
       "model_id": "e998cbae6c4843768aa74d4e286ad794",
       "version_major": 2,
       "version_minor": 0
      },
      "text/plain": [
       "VBox()"
      ]
     },
     "metadata": {},
     "output_type": "display_data"
    },
    {
     "data": {
      "application/vnd.jupyter.widget-view+json": {
       "model_id": "",
       "version_major": 2,
       "version_minor": 0
      },
      "text/plain": [
       "FloatProgress(value=0.0, bar_style='info', description='Progress:', layout=Layout(height='25px', width='50%'),…"
      ]
     },
     "metadata": {},
     "output_type": "display_data"
    },
    {
     "name": "stderr",
     "output_type": "stream",
     "text": [
      "Exception in thread cell_monitor-109:\n",
      "Traceback (most recent call last):\n",
      "  File \"/mnt/notebook-env/lib/python3.7/threading.py\", line 926, in _bootstrap_inner\n",
      "    self.run()\n",
      "  File \"/mnt/notebook-env/lib/python3.7/threading.py\", line 870, in run\n",
      "    self._target(*self._args, **self._kwargs)\n",
      "  File \"/mnt/notebook-env/lib/python3.7/site-packages/awseditorssparkmonitoringwidget-1.0-py3.7.egg/awseditorssparkmonitoringwidget/cellmonitor.py\", line 178, in cell_monitor\n",
      "    job_binned_stages[job_id][stage_id] = all_stages[stage_id]\n",
      "KeyError: 6194\n",
      "\n"
     ]
    },
    {
     "name": "stdout",
     "output_type": "stream",
     "text": [
      "Total execution time: 15.050861120223999 seconds"
     ]
    }
   ],
   "source": [
    "nb_over = NaiveBayes(smoothing=0.5, labelCol='Risk_Flag', featuresCol='features')\n",
    "\n",
    "start_time = time.time()\n",
    "\n",
    "predictions_over_nb, model_over_nb = get_classification_results(nb_over, train_over, test_over)\n",
    "\n",
    "end_time = time.time()\n",
    "print(\"Total execution time: {} seconds\".format(end_time - start_time))"
   ]
  },
  {
   "cell_type": "code",
   "execution_count": 111,
   "metadata": {
    "application/vnd.databricks.v1+cell": {
     "inputWidgets": {},
     "nuid": "e69cb2ce-7b3f-4d19-9482-449d9ee25140",
     "showTitle": false,
     "title": ""
    }
   },
   "outputs": [
    {
     "data": {
      "application/vnd.jupyter.widget-view+json": {
       "model_id": "74fdc2339b214b8ead665dd591355e10",
       "version_major": 2,
       "version_minor": 0
      },
      "text/plain": [
       "VBox()"
      ]
     },
     "metadata": {},
     "output_type": "display_data"
    },
    {
     "data": {
      "application/vnd.jupyter.widget-view+json": {
       "model_id": "",
       "version_major": 2,
       "version_minor": 0
      },
      "text/plain": [
       "FloatProgress(value=0.0, bar_style='info', description='Progress:', layout=Layout(height='25px', width='50%'),…"
      ]
     },
     "metadata": {},
     "output_type": "display_data"
    },
    {
     "name": "stdout",
     "output_type": "stream",
     "text": [
      "Accuracy =  0.591603429585099\n",
      "Area Under ROC Curve =  0.5857567131182689\n",
      "Area Under PR Curve =  0.1578546552239959"
     ]
    }
   ],
   "source": [
    "acc = get_accuracy_score(predictions_over_nb)\n",
    "area_ROC = evaluator_ROC.evaluate(predictions_over_nb)\n",
    "area_PR = evaluator_PR.evaluate(predictions_over_nb)\n",
    "\n",
    "print('Accuracy = ', acc)\n",
    "print('Area Under ROC Curve = ', area_ROC)\n",
    "print('Area Under PR Curve = ', area_PR)"
   ]
  },
  {
   "cell_type": "markdown",
   "metadata": {},
   "source": [
    "**Implementation of Naive Bayes on undersampled training set**"
   ]
  },
  {
   "cell_type": "code",
   "execution_count": 107,
   "metadata": {},
   "outputs": [
    {
     "data": {
      "application/vnd.jupyter.widget-view+json": {
       "model_id": "83e63e4c16454d8da05d14b2ddf2f542",
       "version_major": 2,
       "version_minor": 0
      },
      "text/plain": [
       "VBox()"
      ]
     },
     "metadata": {},
     "output_type": "display_data"
    },
    {
     "data": {
      "application/vnd.jupyter.widget-view+json": {
       "model_id": "",
       "version_major": 2,
       "version_minor": 0
      },
      "text/plain": [
       "FloatProgress(value=0.0, bar_style='info', description='Progress:', layout=Layout(height='25px', width='50%'),…"
      ]
     },
     "metadata": {},
     "output_type": "display_data"
    },
    {
     "name": "stdout",
     "output_type": "stream",
     "text": [
      "Total execution time: 2.6132657527923584 seconds"
     ]
    }
   ],
   "source": [
    "nb_under = NaiveBayes(smoothing=0.5, labelCol='Risk_Flag', featuresCol='features')\n",
    "\n",
    "start_time = time.time()\n",
    "\n",
    "predictions_under_nb, model_under_nb = get_classification_results(nb_under, train_under, test_under)\n",
    "\n",
    "end_time = time.time()\n",
    "print(\"Total execution time: {} seconds\".format(end_time - start_time))"
   ]
  },
  {
   "cell_type": "code",
   "execution_count": 108,
   "metadata": {},
   "outputs": [
    {
     "data": {
      "application/vnd.jupyter.widget-view+json": {
       "model_id": "941abde49d824898aa54fbcea3e8998a",
       "version_major": 2,
       "version_minor": 0
      },
      "text/plain": [
       "VBox()"
      ]
     },
     "metadata": {},
     "output_type": "display_data"
    },
    {
     "data": {
      "application/vnd.jupyter.widget-view+json": {
       "model_id": "",
       "version_major": 2,
       "version_minor": 0
      },
      "text/plain": [
       "FloatProgress(value=0.0, bar_style='info', description='Progress:', layout=Layout(height='25px', width='50%'),…"
      ]
     },
     "metadata": {},
     "output_type": "display_data"
    },
    {
     "name": "stdout",
     "output_type": "stream",
     "text": [
      "Accuracy =  0.5911607653051172\n",
      "Area Under ROC Curve =  0.5841352839431843\n",
      "Area Under PR Curve =  0.15560117591016973"
     ]
    }
   ],
   "source": [
    "acc = get_accuracy_score(predictions_under_nb)\n",
    "area_ROC = evaluator_ROC.evaluate(predictions_under_nb)\n",
    "area_PR = evaluator_PR.evaluate(predictions_under_nb)\n",
    "\n",
    "print('Accuracy = ', acc)\n",
    "print('Area Under ROC Curve = ', area_ROC)\n",
    "print('Area Under PR Curve = ', area_PR)"
   ]
  },
  {
   "cell_type": "markdown",
   "metadata": {
    "application/vnd.databricks.v1+cell": {
     "inputWidgets": {},
     "nuid": "4e520200-fdc1-44e4-87fa-5f19af6529c7",
     "showTitle": false,
     "title": ""
    }
   },
   "source": [
    "**Implementation of Naive Bayes on 80% of training set**"
   ]
  },
  {
   "cell_type": "code",
   "execution_count": 112,
   "metadata": {
    "application/vnd.databricks.v1+cell": {
     "inputWidgets": {},
     "nuid": "7f886288-8e8b-43de-a1d8-6b5b956ecee7",
     "showTitle": false,
     "title": ""
    }
   },
   "outputs": [
    {
     "data": {
      "application/vnd.jupyter.widget-view+json": {
       "model_id": "3cd1ab2215914a8b811be77d81811fea",
       "version_major": 2,
       "version_minor": 0
      },
      "text/plain": [
       "VBox()"
      ]
     },
     "metadata": {},
     "output_type": "display_data"
    },
    {
     "data": {
      "application/vnd.jupyter.widget-view+json": {
       "model_id": "",
       "version_major": 2,
       "version_minor": 0
      },
      "text/plain": [
       "FloatProgress(value=0.0, bar_style='info', description='Progress:', layout=Layout(height='25px', width='50%'),…"
      ]
     },
     "metadata": {},
     "output_type": "display_data"
    },
    {
     "name": "stdout",
     "output_type": "stream",
     "text": [
      "Total execution time: 5.228437900543213 seconds"
     ]
    }
   ],
   "source": [
    "start_time = time.time()\n",
    "\n",
    "predictions_80_nb, model_80_nb = get_classification_results(nb, train_80, test_80)\n",
    "\n",
    "end_time = time.time()\n",
    "print(\"Total execution time: {} seconds\".format(end_time - start_time))"
   ]
  },
  {
   "cell_type": "code",
   "execution_count": 113,
   "metadata": {
    "application/vnd.databricks.v1+cell": {
     "inputWidgets": {},
     "nuid": "6056edb2-8d3b-49b9-9e1b-4971630d6e2e",
     "showTitle": false,
     "title": ""
    }
   },
   "outputs": [
    {
     "data": {
      "application/vnd.jupyter.widget-view+json": {
       "model_id": "7a880dc007dd4fa2b26170116de8b53e",
       "version_major": 2,
       "version_minor": 0
      },
      "text/plain": [
       "VBox()"
      ]
     },
     "metadata": {},
     "output_type": "display_data"
    },
    {
     "data": {
      "application/vnd.jupyter.widget-view+json": {
       "model_id": "",
       "version_major": 2,
       "version_minor": 0
      },
      "text/plain": [
       "FloatProgress(value=0.0, bar_style='info', description='Progress:', layout=Layout(height='25px', width='50%'),…"
      ]
     },
     "metadata": {},
     "output_type": "display_data"
    },
    {
     "name": "stdout",
     "output_type": "stream",
     "text": [
      "Accuracy =  0.5841135310929338\n",
      "Area Under ROC Curve =  0.5805931891667568\n",
      "Area Under PR Curve =  0.15523246334425278"
     ]
    }
   ],
   "source": [
    "acc = get_accuracy_score(predictions_80_nb)\n",
    "area_ROC = evaluator_ROC.evaluate(predictions_80_nb)\n",
    "area_PR = evaluator_PR.evaluate(predictions_80_nb)\n",
    "\n",
    "print('Accuracy = ', acc)\n",
    "print('Area Under ROC Curve = ', area_ROC)\n",
    "print('Area Under PR Curve = ', area_PR)"
   ]
  },
  {
   "cell_type": "markdown",
   "metadata": {
    "application/vnd.databricks.v1+cell": {
     "inputWidgets": {},
     "nuid": "1dd29338-e713-407c-b19c-97519751a74f",
     "showTitle": false,
     "title": ""
    }
   },
   "source": [
    "**Implementation of Naive Bayes on 60% of training set**"
   ]
  },
  {
   "cell_type": "code",
   "execution_count": 114,
   "metadata": {
    "application/vnd.databricks.v1+cell": {
     "inputWidgets": {},
     "nuid": "05f74de9-574d-4a7f-8ecb-38f764a00682",
     "showTitle": false,
     "title": ""
    }
   },
   "outputs": [
    {
     "data": {
      "application/vnd.jupyter.widget-view+json": {
       "model_id": "1766b40a111e4a95970e3a546e318729",
       "version_major": 2,
       "version_minor": 0
      },
      "text/plain": [
       "VBox()"
      ]
     },
     "metadata": {},
     "output_type": "display_data"
    },
    {
     "data": {
      "application/vnd.jupyter.widget-view+json": {
       "model_id": "",
       "version_major": 2,
       "version_minor": 0
      },
      "text/plain": [
       "FloatProgress(value=0.0, bar_style='info', description='Progress:', layout=Layout(height='25px', width='50%'),…"
      ]
     },
     "metadata": {},
     "output_type": "display_data"
    },
    {
     "name": "stdout",
     "output_type": "stream",
     "text": [
      "Total execution time: 1.9169542789459229 seconds"
     ]
    }
   ],
   "source": [
    "start_time = time.time()\n",
    "\n",
    "predictions_60_nb, model_60_nb = get_classification_results(nb, train_60, test_60)\n",
    "\n",
    "end_time = time.time()\n",
    "print(\"Total execution time: {} seconds\".format(end_time - start_time))"
   ]
  },
  {
   "cell_type": "code",
   "execution_count": 115,
   "metadata": {
    "application/vnd.databricks.v1+cell": {
     "inputWidgets": {},
     "nuid": "def2a175-7936-4337-95b8-2fd9c51c3690",
     "showTitle": false,
     "title": ""
    }
   },
   "outputs": [
    {
     "data": {
      "application/vnd.jupyter.widget-view+json": {
       "model_id": "4179a07f64134abb9c7421daff0c0435",
       "version_major": 2,
       "version_minor": 0
      },
      "text/plain": [
       "VBox()"
      ]
     },
     "metadata": {},
     "output_type": "display_data"
    },
    {
     "data": {
      "application/vnd.jupyter.widget-view+json": {
       "model_id": "",
       "version_major": 2,
       "version_minor": 0
      },
      "text/plain": [
       "FloatProgress(value=0.0, bar_style='info', description='Progress:', layout=Layout(height='25px', width='50%'),…"
      ]
     },
     "metadata": {},
     "output_type": "display_data"
    },
    {
     "name": "stderr",
     "output_type": "stream",
     "text": [
      "Exception in thread cell_monitor-115:\n",
      "Traceback (most recent call last):\n",
      "  File \"/mnt/notebook-env/lib/python3.7/threading.py\", line 926, in _bootstrap_inner\n",
      "    self.run()\n",
      "  File \"/mnt/notebook-env/lib/python3.7/threading.py\", line 870, in run\n",
      "    self._target(*self._args, **self._kwargs)\n",
      "  File \"/mnt/notebook-env/lib/python3.7/site-packages/awseditorssparkmonitoringwidget-1.0-py3.7.egg/awseditorssparkmonitoringwidget/cellmonitor.py\", line 178, in cell_monitor\n",
      "    job_binned_stages[job_id][stage_id] = all_stages[stage_id]\n",
      "KeyError: 6298\n",
      "\n"
     ]
    },
    {
     "name": "stdout",
     "output_type": "stream",
     "text": [
      "Accuracy =  0.5836010643539963\n",
      "Area Under ROC Curve =  0.5776293237105112\n",
      "Area Under PR Curve =  0.15401999364167673"
     ]
    }
   ],
   "source": [
    "acc = get_accuracy_score(predictions_60_nb)\n",
    "area_ROC = evaluator_ROC.evaluate(predictions_60_nb)\n",
    "area_PR = evaluator_PR.evaluate(predictions_60_nb)\n",
    "\n",
    "print('Accuracy = ', acc)\n",
    "print('Area Under ROC Curve = ', area_ROC)\n",
    "print('Area Under PR Curve = ', area_PR)"
   ]
  },
  {
   "cell_type": "markdown",
   "metadata": {
    "application/vnd.databricks.v1+cell": {
     "inputWidgets": {},
     "nuid": "f3cee7a2-0a4d-43ba-9f0a-b214c836252f",
     "showTitle": false,
     "title": ""
    }
   },
   "source": [
    "**Implementation of Naive Bayes on 40% of training set**"
   ]
  },
  {
   "cell_type": "code",
   "execution_count": 116,
   "metadata": {
    "application/vnd.databricks.v1+cell": {
     "inputWidgets": {},
     "nuid": "b954527d-1f61-4609-ba11-5f36001195a0",
     "showTitle": false,
     "title": ""
    }
   },
   "outputs": [
    {
     "data": {
      "application/vnd.jupyter.widget-view+json": {
       "model_id": "d6795b4dd509454096149b0d386feb7b",
       "version_major": 2,
       "version_minor": 0
      },
      "text/plain": [
       "VBox()"
      ]
     },
     "metadata": {},
     "output_type": "display_data"
    },
    {
     "data": {
      "application/vnd.jupyter.widget-view+json": {
       "model_id": "",
       "version_major": 2,
       "version_minor": 0
      },
      "text/plain": [
       "FloatProgress(value=0.0, bar_style='info', description='Progress:', layout=Layout(height='25px', width='50%'),…"
      ]
     },
     "metadata": {},
     "output_type": "display_data"
    },
    {
     "name": "stdout",
     "output_type": "stream",
     "text": [
      "Total execution time: 1.6204540729522705 seconds"
     ]
    }
   ],
   "source": [
    "start_time = time.time()\n",
    "\n",
    "predictions_40_nb, model_40_nb = get_classification_results(nb, train_40, test_40)\n",
    "\n",
    "end_time = time.time()\n",
    "print(\"Total execution time: {} seconds\".format(end_time - start_time))"
   ]
  },
  {
   "cell_type": "code",
   "execution_count": 117,
   "metadata": {
    "application/vnd.databricks.v1+cell": {
     "inputWidgets": {},
     "nuid": "167a060a-5fab-476c-bd11-91a3f205fc52",
     "showTitle": false,
     "title": ""
    }
   },
   "outputs": [
    {
     "data": {
      "application/vnd.jupyter.widget-view+json": {
       "model_id": "06632cf650f64070a30dd79c764aa9ca",
       "version_major": 2,
       "version_minor": 0
      },
      "text/plain": [
       "VBox()"
      ]
     },
     "metadata": {},
     "output_type": "display_data"
    },
    {
     "data": {
      "application/vnd.jupyter.widget-view+json": {
       "model_id": "",
       "version_major": 2,
       "version_minor": 0
      },
      "text/plain": [
       "FloatProgress(value=0.0, bar_style='info', description='Progress:', layout=Layout(height='25px', width='50%'),…"
      ]
     },
     "metadata": {},
     "output_type": "display_data"
    },
    {
     "name": "stdout",
     "output_type": "stream",
     "text": [
      "Accuracy =  0.5794816201833054\n",
      "Area Under ROC Curve =  0.5793891616993169\n",
      "Area Under PR Curve =  0.15443832125302517"
     ]
    }
   ],
   "source": [
    "acc = get_accuracy_score(predictions_40_nb)\n",
    "area_ROC = evaluator_ROC.evaluate(predictions_40_nb)\n",
    "area_PR = evaluator_PR.evaluate(predictions_40_nb)\n",
    "\n",
    "print('Accuracy = ', acc)\n",
    "print('Area Under ROC Curve = ', area_ROC)\n",
    "print('Area Under PR Curve = ', area_PR)"
   ]
  },
  {
   "cell_type": "markdown",
   "metadata": {
    "application/vnd.databricks.v1+cell": {
     "inputWidgets": {},
     "nuid": "d4e0a09c-a7c2-44e5-a927-c4cf720eec08",
     "showTitle": false,
     "title": ""
    }
   },
   "source": [
    "**Implementation on 20% of training set**"
   ]
  },
  {
   "cell_type": "code",
   "execution_count": 118,
   "metadata": {
    "application/vnd.databricks.v1+cell": {
     "inputWidgets": {},
     "nuid": "4abf0bd3-52bb-40b6-b3cb-143e1288f872",
     "showTitle": false,
     "title": ""
    }
   },
   "outputs": [
    {
     "data": {
      "application/vnd.jupyter.widget-view+json": {
       "model_id": "cb5d0b0b845d4025b7fd5ef23cb3609b",
       "version_major": 2,
       "version_minor": 0
      },
      "text/plain": [
       "VBox()"
      ]
     },
     "metadata": {},
     "output_type": "display_data"
    },
    {
     "data": {
      "application/vnd.jupyter.widget-view+json": {
       "model_id": "",
       "version_major": 2,
       "version_minor": 0
      },
      "text/plain": [
       "FloatProgress(value=0.0, bar_style='info', description='Progress:', layout=Layout(height='25px', width='50%'),…"
      ]
     },
     "metadata": {},
     "output_type": "display_data"
    },
    {
     "name": "stdout",
     "output_type": "stream",
     "text": [
      "Total execution time: 1.3145997524261475 seconds"
     ]
    }
   ],
   "source": [
    "start_time = time.time()\n",
    "\n",
    "predictions_20_nb, model_20_nb = get_classification_results(nb, train_20, test_20)\n",
    "\n",
    "end_time = time.time()\n",
    "print(\"Total execution time: {} seconds\".format(end_time - start_time))"
   ]
  },
  {
   "cell_type": "code",
   "execution_count": 119,
   "metadata": {
    "application/vnd.databricks.v1+cell": {
     "inputWidgets": {},
     "nuid": "90fda06f-2446-45ae-9017-f517389a8ff1",
     "showTitle": false,
     "title": ""
    }
   },
   "outputs": [
    {
     "data": {
      "application/vnd.jupyter.widget-view+json": {
       "model_id": "c6fb113e15a44687b73a704bf1ab1447",
       "version_major": 2,
       "version_minor": 0
      },
      "text/plain": [
       "VBox()"
      ]
     },
     "metadata": {},
     "output_type": "display_data"
    },
    {
     "data": {
      "application/vnd.jupyter.widget-view+json": {
       "model_id": "",
       "version_major": 2,
       "version_minor": 0
      },
      "text/plain": [
       "FloatProgress(value=0.0, bar_style='info', description='Progress:', layout=Layout(height='25px', width='50%'),…"
      ]
     },
     "metadata": {},
     "output_type": "display_data"
    },
    {
     "name": "stdout",
     "output_type": "stream",
     "text": [
      "Accuracy =  0.5718734601360008\n",
      "Area Under ROC Curve =  0.5687466675849023\n",
      "Area Under PR Curve =  0.14981649809277667"
     ]
    }
   ],
   "source": [
    "acc = get_accuracy_score(predictions_20_nb)\n",
    "area_ROC = evaluator_ROC.evaluate(predictions_20_nb)\n",
    "area_PR = evaluator_PR.evaluate(predictions_20_nb)\n",
    "\n",
    "print('Accuracy = ', acc)\n",
    "print('Area Under ROC Curve = ', area_ROC)\n",
    "print('Area Under PR Curve = ', area_PR)"
   ]
  },
  {
   "cell_type": "markdown",
   "metadata": {
    "application/vnd.databricks.v1+cell": {
     "inputWidgets": {},
     "nuid": "d92f69e5-0b53-478c-9a11-ca40ef009574",
     "showTitle": false,
     "title": ""
    }
   },
   "source": [
    "## Gradient Boosted Tree Classifier"
   ]
  },
  {
   "cell_type": "code",
   "execution_count": 15,
   "metadata": {
    "application/vnd.databricks.v1+cell": {
     "inputWidgets": {},
     "nuid": "17d87cf6-49f0-40ab-a543-dc68bf36152f",
     "showTitle": false,
     "title": ""
    }
   },
   "outputs": [
    {
     "data": {
      "application/vnd.jupyter.widget-view+json": {
       "model_id": "e8f0a13e06344b83bb064b9d2df85617",
       "version_major": 2,
       "version_minor": 0
      },
      "text/plain": [
       "VBox()"
      ]
     },
     "metadata": {},
     "output_type": "display_data"
    },
    {
     "data": {
      "application/vnd.jupyter.widget-view+json": {
       "model_id": "",
       "version_major": 2,
       "version_minor": 0
      },
      "text/plain": [
       "FloatProgress(value=0.0, bar_style='info', description='Progress:', layout=Layout(height='25px', width='50%'),…"
      ]
     },
     "metadata": {},
     "output_type": "display_data"
    },
    {
     "name": "stderr",
     "output_type": "stream",
     "text": [
      "An error was encountered:\n",
      "name 'get_classification_results' is not defined\n",
      "Traceback (most recent call last):\n",
      "NameError: name 'get_classification_results' is not defined\n",
      "\n"
     ]
    }
   ],
   "source": [
    "from pyspark.ml.classification import GBTClassifier\n",
    "import time\n",
    "\n",
    "# Train a GBT model.\n",
    "gbt = GBTClassifier(labelCol=\"Risk_Flag\", featuresCol=\"features\")\n",
    "\n",
    "start_time = time.time()\n",
    "\n",
    "predictions, model_gbt= get_classification_results(gbt, train_full, test_full)\n",
    "\n",
    "end_time = time.time()\n",
    "print(\"Total execution time: {} seconds\".format(end_time - start_time))"
   ]
  },
  {
   "cell_type": "code",
   "execution_count": 123,
   "metadata": {
    "application/vnd.databricks.v1+cell": {
     "inputWidgets": {},
     "nuid": "443b55e1-01ae-450a-b85b-6e6ea4f6c306",
     "showTitle": false,
     "title": ""
    }
   },
   "outputs": [
    {
     "data": {
      "application/vnd.jupyter.widget-view+json": {
       "model_id": "1d3409a5915e44a1846273bc0bfd24b3",
       "version_major": 2,
       "version_minor": 0
      },
      "text/plain": [
       "VBox()"
      ]
     },
     "metadata": {},
     "output_type": "display_data"
    },
    {
     "data": {
      "application/vnd.jupyter.widget-view+json": {
       "model_id": "",
       "version_major": 2,
       "version_minor": 0
      },
      "text/plain": [
       "FloatProgress(value=0.0, bar_style='info', description='Progress:', layout=Layout(height='25px', width='50%'),…"
      ]
     },
     "metadata": {},
     "output_type": "display_data"
    },
    {
     "name": "stderr",
     "output_type": "stream",
     "text": [
      "Exception in thread cell_monitor-123:\n",
      "Traceback (most recent call last):\n",
      "  File \"/mnt/notebook-env/lib/python3.7/threading.py\", line 926, in _bootstrap_inner\n",
      "    self.run()\n",
      "  File \"/mnt/notebook-env/lib/python3.7/threading.py\", line 870, in run\n",
      "    self._target(*self._args, **self._kwargs)\n",
      "  File \"/mnt/notebook-env/lib/python3.7/site-packages/awseditorssparkmonitoringwidget-1.0-py3.7.egg/awseditorssparkmonitoringwidget/cellmonitor.py\", line 178, in cell_monitor\n",
      "    job_binned_stages[job_id][stage_id] = all_stages[stage_id]\n",
      "KeyError: 6797\n",
      "\n"
     ]
    },
    {
     "name": "stdout",
     "output_type": "stream",
     "text": [
      "Accuracy =  0.8786230813185947\n",
      "Area Under ROC Curve =  0.5064898929201874\n",
      "Area Under PR Curve =  0.4090704621324296"
     ]
    }
   ],
   "source": [
    "acc = get_accuracy_score(predictions)\n",
    "area_ROC = evaluator_ROC.evaluate(predictions)\n",
    "area_PR = evaluator_PR.evaluate(predictions)\n",
    "\n",
    "print('Accuracy = ', acc)\n",
    "print('Area Under ROC Curve = ', area_ROC)\n",
    "print('Area Under PR Curve = ', area_PR)"
   ]
  },
  {
   "cell_type": "markdown",
   "metadata": {},
   "source": [
    "**Implementation of Gradient Boosted Tree on oversampled training set**"
   ]
  },
  {
   "cell_type": "code",
   "execution_count": 124,
   "metadata": {},
   "outputs": [
    {
     "data": {
      "application/vnd.jupyter.widget-view+json": {
       "model_id": "a59e774bfa6d49cfaf7857d026aff438",
       "version_major": 2,
       "version_minor": 0
      },
      "text/plain": [
       "VBox()"
      ]
     },
     "metadata": {},
     "output_type": "display_data"
    },
    {
     "data": {
      "application/vnd.jupyter.widget-view+json": {
       "model_id": "",
       "version_major": 2,
       "version_minor": 0
      },
      "text/plain": [
       "FloatProgress(value=0.0, bar_style='info', description='Progress:', layout=Layout(height='25px', width='50%'),…"
      ]
     },
     "metadata": {},
     "output_type": "display_data"
    },
    {
     "name": "stderr",
     "output_type": "stream",
     "text": [
      "Exception in thread cell_monitor-124:\n",
      "Traceback (most recent call last):\n",
      "  File \"/mnt/notebook-env/lib/python3.7/threading.py\", line 926, in _bootstrap_inner\n",
      "    self.run()\n",
      "  File \"/mnt/notebook-env/lib/python3.7/threading.py\", line 870, in run\n",
      "    self._target(*self._args, **self._kwargs)\n",
      "  File \"/mnt/notebook-env/lib/python3.7/site-packages/awseditorssparkmonitoringwidget-1.0-py3.7.egg/awseditorssparkmonitoringwidget/cellmonitor.py\", line 178, in cell_monitor\n",
      "    job_binned_stages[job_id][stage_id] = all_stages[stage_id]\n",
      "KeyError: 6992\n",
      "\n"
     ]
    },
    {
     "name": "stdout",
     "output_type": "stream",
     "text": [
      "Total execution time: 119.98680782318115 seconds"
     ]
    }
   ],
   "source": [
    "gbt_over = GBTClassifier(labelCol=\"Risk_Flag\", featuresCol=\"features\")\n",
    "\n",
    "start_time = time.time()\n",
    "\n",
    "predictions_over_gbt, model_gbt= get_classification_results(gbt_over, train_over, test_over)\n",
    "\n",
    "end_time = time.time()\n",
    "print(\"Total execution time: {} seconds\".format(end_time - start_time))"
   ]
  },
  {
   "cell_type": "code",
   "execution_count": 125,
   "metadata": {},
   "outputs": [
    {
     "data": {
      "application/vnd.jupyter.widget-view+json": {
       "model_id": "35f87199e8744421b97d38bc6491338f",
       "version_major": 2,
       "version_minor": 0
      },
      "text/plain": [
       "VBox()"
      ]
     },
     "metadata": {},
     "output_type": "display_data"
    },
    {
     "data": {
      "application/vnd.jupyter.widget-view+json": {
       "model_id": "",
       "version_major": 2,
       "version_minor": 0
      },
      "text/plain": [
       "FloatProgress(value=0.0, bar_style='info', description='Progress:', layout=Layout(height='25px', width='50%'),…"
      ]
     },
     "metadata": {},
     "output_type": "display_data"
    },
    {
     "name": "stdout",
     "output_type": "stream",
     "text": [
      "Accuracy =  0.6792943727210012\n",
      "Area Under ROC Curve =  0.6005073162035763\n",
      "Area Under PR Curve =  0.17452119391138102"
     ]
    }
   ],
   "source": [
    "acc = get_accuracy_score(predictions_over_gbt)\n",
    "area_ROC = evaluator_ROC.evaluate(predictions_over_gbt)\n",
    "area_PR = evaluator_PR.evaluate(predictions_over_gbt)\n",
    "\n",
    "print('Accuracy = ', acc)\n",
    "print('Area Under ROC Curve = ', area_ROC)\n",
    "print('Area Under PR Curve = ', area_PR)"
   ]
  },
  {
   "cell_type": "markdown",
   "metadata": {},
   "source": [
    "**Implementation of Gradient Boosted Tree on undersampled training set**"
   ]
  },
  {
   "cell_type": "code",
   "execution_count": 126,
   "metadata": {},
   "outputs": [
    {
     "data": {
      "application/vnd.jupyter.widget-view+json": {
       "model_id": "a299d413c25a4515a4dce62124e03eb9",
       "version_major": 2,
       "version_minor": 0
      },
      "text/plain": [
       "VBox()"
      ]
     },
     "metadata": {},
     "output_type": "display_data"
    },
    {
     "data": {
      "application/vnd.jupyter.widget-view+json": {
       "model_id": "",
       "version_major": 2,
       "version_minor": 0
      },
      "text/plain": [
       "FloatProgress(value=0.0, bar_style='info', description='Progress:', layout=Layout(height='25px', width='50%'),…"
      ]
     },
     "metadata": {},
     "output_type": "display_data"
    },
    {
     "name": "stdout",
     "output_type": "stream",
     "text": [
      "Total execution time: 32.281821966171265 seconds\n",
      "Accuracy =  0.5588264270654766\n",
      "Area Under ROC Curve =  0.6037771115273078\n",
      "Area Under PR Curve =  0.16081552384186906"
     ]
    }
   ],
   "source": [
    "gbt_under = GBTClassifier(labelCol=\"Risk_Flag\", featuresCol=\"features\")\n",
    "\n",
    "start_time = time.time()\n",
    "\n",
    "predictions_under_gbt, model_under_gbt= get_classification_results(gbt_under, train_under, test_under)\n",
    "\n",
    "end_time = time.time()\n",
    "print(\"Total execution time: {} seconds\".format(end_time - start_time))\n",
    "\n",
    "acc = get_accuracy_score(predictions_under_gbt)\n",
    "area_ROC = evaluator_ROC.evaluate(predictions_under_gbt)\n",
    "area_PR = evaluator_PR.evaluate(predictions_under_gbt)\n",
    "\n",
    "print('Accuracy = ', acc)\n",
    "print('Area Under ROC Curve = ', area_ROC)\n",
    "print('Area Under PR Curve = ', area_PR)"
   ]
  },
  {
   "cell_type": "markdown",
   "metadata": {},
   "source": [
    "**Implementation of Gradient Boosted Tree on 80% of training set**"
   ]
  },
  {
   "cell_type": "code",
   "execution_count": 18,
   "metadata": {},
   "outputs": [
    {
     "data": {
      "application/vnd.jupyter.widget-view+json": {
       "model_id": "768bd2d00703444da8c84ccbefdb09fe",
       "version_major": 2,
       "version_minor": 0
      },
      "text/plain": [
       "VBox()"
      ]
     },
     "metadata": {},
     "output_type": "display_data"
    },
    {
     "data": {
      "application/vnd.jupyter.widget-view+json": {
       "model_id": "",
       "version_major": 2,
       "version_minor": 0
      },
      "text/plain": [
       "FloatProgress(value=0.0, bar_style='info', description='Progress:', layout=Layout(height='25px', width='50%'),…"
      ]
     },
     "metadata": {},
     "output_type": "display_data"
    },
    {
     "name": "stdout",
     "output_type": "stream",
     "text": [
      "Total execution time: 32.09629416465759 seconds\n",
      "Accuracy =  0.8783866327757088\n",
      "Area Under ROC Curve =  0.5054539130076998\n",
      "Area Under PR Curve =  0.39312846351833197"
     ]
    }
   ],
   "source": [
    "gbt = GBTClassifier(labelCol=\"Risk_Flag\", featuresCol=\"features\")\n",
    "\n",
    "start_time = time.time()\n",
    "\n",
    "predictions_80_gbt, model_gbt= get_classification_results(gbt, train_80, test_80)\n",
    "\n",
    "end_time = time.time()\n",
    "print(\"Total execution time: {} seconds\".format(end_time - start_time))\n",
    "\n",
    "acc = get_accuracy_score(predictions_80_gbt)\n",
    "area_ROC = evaluator_ROC.evaluate(predictions_80_gbt)\n",
    "area_PR = evaluator_PR.evaluate(predictions_80_gbt)\n",
    "\n",
    "print('Accuracy = ', acc)\n",
    "print('Area Under ROC Curve = ', area_ROC)\n",
    "print('Area Under PR Curve = ', area_PR)"
   ]
  },
  {
   "cell_type": "markdown",
   "metadata": {},
   "source": [
    "**Implementation of Gradient Boosted Tree on 60% of training set**"
   ]
  },
  {
   "cell_type": "code",
   "execution_count": 19,
   "metadata": {},
   "outputs": [
    {
     "data": {
      "application/vnd.jupyter.widget-view+json": {
       "model_id": "4f747ff456ad4b5abd044d8f3b63ec59",
       "version_major": 2,
       "version_minor": 0
      },
      "text/plain": [
       "VBox()"
      ]
     },
     "metadata": {},
     "output_type": "display_data"
    },
    {
     "data": {
      "application/vnd.jupyter.widget-view+json": {
       "model_id": "",
       "version_major": 2,
       "version_minor": 0
      },
      "text/plain": [
       "FloatProgress(value=0.0, bar_style='info', description='Progress:', layout=Layout(height='25px', width='50%'),…"
      ]
     },
     "metadata": {},
     "output_type": "display_data"
    },
    {
     "name": "stdout",
     "output_type": "stream",
     "text": [
      "Total execution time: 27.841379404067993 seconds\n",
      "Accuracy =  0.8784063368209494\n",
      "Area Under ROC Curve =  0.5053264791506947\n",
      "Area Under PR Curve =  0.39918855596441194"
     ]
    }
   ],
   "source": [
    "gbt = GBTClassifier(labelCol=\"Risk_Flag\", featuresCol=\"features\")\n",
    "\n",
    "start_time = time.time()\n",
    "\n",
    "predictions_60_gbt, model_gbt= get_classification_results(gbt, train_60, test_60)\n",
    "\n",
    "end_time = time.time()\n",
    "print(\"Total execution time: {} seconds\".format(end_time - start_time))\n",
    "\n",
    "acc = get_accuracy_score(predictions_60_gbt)\n",
    "area_ROC = evaluator_ROC.evaluate(predictions_60_gbt)\n",
    "area_PR = evaluator_PR.evaluate(predictions_60_gbt)\n",
    "\n",
    "print('Accuracy = ', acc)\n",
    "print('Area Under ROC Curve = ', area_ROC)\n",
    "print('Area Under PR Curve = ', area_PR)"
   ]
  },
  {
   "cell_type": "markdown",
   "metadata": {},
   "source": [
    "**Implementation of Gradient Boosted Tree on 40% of training set**"
   ]
  },
  {
   "cell_type": "code",
   "execution_count": 21,
   "metadata": {},
   "outputs": [
    {
     "data": {
      "application/vnd.jupyter.widget-view+json": {
       "model_id": "f74303d388924ab99b13515da6aea2d5",
       "version_major": 2,
       "version_minor": 0
      },
      "text/plain": [
       "VBox()"
      ]
     },
     "metadata": {},
     "output_type": "display_data"
    },
    {
     "data": {
      "application/vnd.jupyter.widget-view+json": {
       "model_id": "",
       "version_major": 2,
       "version_minor": 0
      },
      "text/plain": [
       "FloatProgress(value=0.0, bar_style='info', description='Progress:', layout=Layout(height='25px', width='50%'),…"
      ]
     },
     "metadata": {},
     "output_type": "display_data"
    },
    {
     "name": "stderr",
     "output_type": "stream",
     "text": [
      "Exception in thread cell_monitor-21:\n",
      "Traceback (most recent call last):\n",
      "  File \"/mnt/notebook-env/lib/python3.7/threading.py\", line 926, in _bootstrap_inner\n",
      "    self.run()\n",
      "  File \"/mnt/notebook-env/lib/python3.7/threading.py\", line 870, in run\n",
      "    self._target(*self._args, **self._kwargs)\n",
      "  File \"/mnt/notebook-env/lib/python3.7/site-packages/awseditorssparkmonitoringwidget-1.0-py3.7.egg/awseditorssparkmonitoringwidget/cellmonitor.py\", line 178, in cell_monitor\n",
      "    job_binned_stages[job_id][stage_id] = all_stages[stage_id]\n",
      "KeyError: 1397\n",
      "\n"
     ]
    },
    {
     "name": "stdout",
     "output_type": "stream",
     "text": [
      "Total execution time: 22.137314081192017 seconds\n",
      "Accuracy =  0.8782290004137849\n",
      "Area Under ROC Curve =  0.5051561260871348\n",
      "Area Under PR Curve =  0.37368943488794293"
     ]
    }
   ],
   "source": [
    "gbt = GBTClassifier(labelCol=\"Risk_Flag\", featuresCol=\"features\")\n",
    "\n",
    "start_time = time.time()\n",
    "\n",
    "predictions_40_gbt, model_gbt= get_classification_results(gbt, train_40, test_40)\n",
    "\n",
    "end_time = time.time()\n",
    "print(\"Total execution time: {} seconds\".format(end_time - start_time))\n",
    "\n",
    "acc = get_accuracy_score(predictions_40_gbt)\n",
    "area_ROC = evaluator_ROC.evaluate(predictions_40_gbt)\n",
    "area_PR = evaluator_PR.evaluate(predictions_40_gbt)\n",
    "\n",
    "print('Accuracy = ', acc)\n",
    "print('Area Under ROC Curve = ', area_ROC)\n",
    "print('Area Under PR Curve = ', area_PR)"
   ]
  },
  {
   "cell_type": "markdown",
   "metadata": {},
   "source": [
    "**Implementation of Gradient Boosted Tree on 20% of training set**"
   ]
  },
  {
   "cell_type": "code",
   "execution_count": 24,
   "metadata": {},
   "outputs": [
    {
     "data": {
      "application/vnd.jupyter.widget-view+json": {
       "model_id": "8c34752143df4d128b8e48f1ff0c915f",
       "version_major": 2,
       "version_minor": 0
      },
      "text/plain": [
       "VBox()"
      ]
     },
     "metadata": {},
     "output_type": "display_data"
    },
    {
     "data": {
      "application/vnd.jupyter.widget-view+json": {
       "model_id": "",
       "version_major": 2,
       "version_minor": 0
      },
      "text/plain": [
       "FloatProgress(value=0.0, bar_style='info', description='Progress:', layout=Layout(height='25px', width='50%'),…"
      ]
     },
     "metadata": {},
     "output_type": "display_data"
    },
    {
     "name": "stdout",
     "output_type": "stream",
     "text": [
      "Total execution time: 16.11212134361267 seconds\n",
      "Accuracy =  0.8784457449114303\n",
      "Area Under ROC Curve =  0.5088847260531769\n",
      "Area Under PR Curve =  0.3618862999066784"
     ]
    },
    {
     "name": "stderr",
     "output_type": "stream",
     "text": [
      "Exception in thread cell_monitor-24:\n",
      "Traceback (most recent call last):\n",
      "  File \"/mnt/notebook-env/lib/python3.7/threading.py\", line 926, in _bootstrap_inner\n",
      "    self.run()\n",
      "  File \"/mnt/notebook-env/lib/python3.7/threading.py\", line 870, in run\n",
      "    self._target(*self._args, **self._kwargs)\n",
      "  File \"/mnt/notebook-env/lib/python3.7/site-packages/awseditorssparkmonitoringwidget-1.0-py3.7.egg/awseditorssparkmonitoringwidget/cellmonitor.py\", line 178, in cell_monitor\n",
      "    job_binned_stages[job_id][stage_id] = all_stages[stage_id]\n",
      "KeyError: 2097\n",
      "\n"
     ]
    }
   ],
   "source": [
    "gbt = GBTClassifier(labelCol=\"Risk_Flag\", featuresCol=\"features\")\n",
    "\n",
    "start_time = time.time()\n",
    "\n",
    "predictions_20_gbt, model_gbt= get_classification_results(gbt, train_20, test_20)\n",
    "\n",
    "end_time = time.time()\n",
    "print(\"Total execution time: {} seconds\".format(end_time - start_time))\n",
    "\n",
    "acc = get_accuracy_score(predictions_20_gbt)\n",
    "area_ROC = evaluator_ROC.evaluate(predictions_20_gbt)\n",
    "area_PR = evaluator_PR.evaluate(predictions_20_gbt)\n",
    "\n",
    "print('Accuracy = ', acc)\n",
    "print('Area Under ROC Curve = ', area_ROC)\n",
    "print('Area Under PR Curve = ', area_PR)"
   ]
  },
  {
   "cell_type": "code",
   "execution_count": null,
   "metadata": {},
   "outputs": [],
   "source": []
  }
 ],
 "metadata": {
  "application/vnd.databricks.v1+notebook": {
   "dashboards": [],
   "language": "python",
   "notebookMetadata": {
    "pythonIndentUnit": 2
   },
   "notebookName": "Project",
   "notebookOrigID": 3057561271971174,
   "widgets": {}
  },
  "kernelspec": {
   "display_name": "PySpark",
   "language": "",
   "name": "pysparkkernel"
  },
  "language_info": {
   "codemirror_mode": {
    "name": "python",
    "version": 3
   },
   "mimetype": "text/x-python",
   "name": "pyspark",
   "pygments_lexer": "python3"
  }
 },
 "nbformat": 4,
 "nbformat_minor": 4
}
